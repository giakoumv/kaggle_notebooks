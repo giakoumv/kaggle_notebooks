{
 "cells": [
  {
   "cell_type": "markdown",
   "metadata": {
    "papermill": {
     "duration": 0.017186,
     "end_time": "2021-01-03T10:52:48.142117",
     "exception": false,
     "start_time": "2021-01-03T10:52:48.124931",
     "status": "completed"
    },
    "tags": []
   },
   "source": [
    "### In this notebook I analyse the descriptions of the films and TV shows, first by rating and then by country.\n",
    "#### I use some tools from the nltk package to clean up the descriptions, and plotly for the visualizations."
   ]
  },
  {
   "cell_type": "code",
   "execution_count": 1,
   "metadata": {
    "_cell_guid": "b1076dfc-b9ad-4769-8c92-a6c4dae69d19",
    "_uuid": "8f2839f25d086af736a60e9eeb907d3b93b6e0e5",
    "execution": {
     "iopub.execute_input": "2021-01-03T10:52:48.182303Z",
     "iopub.status.busy": "2021-01-03T10:52:48.181639Z",
     "iopub.status.idle": "2021-01-03T10:52:50.743537Z",
     "shell.execute_reply": "2021-01-03T10:52:50.744048Z"
    },
    "papermill": {
     "duration": 2.585197,
     "end_time": "2021-01-03T10:52:50.744246",
     "exception": false,
     "start_time": "2021-01-03T10:52:48.159049",
     "status": "completed"
    },
    "tags": []
   },
   "outputs": [],
   "source": [
    "import pandas as pd\n",
    "import numpy as np\n",
    "import plotly.express as px\n",
    "import plotly.graph_objects as go\n",
    "from plotly.subplots import make_subplots\n",
    "from collections import Counter\n",
    "from nltk.corpus import stopwords\n",
    "from nltk.tokenize import RegexpTokenizer"
   ]
  },
  {
   "cell_type": "code",
   "execution_count": 2,
   "metadata": {
    "_cell_guid": "79c7e3d0-c299-4dcb-8224-4455121ee9b0",
    "_uuid": "d629ff2d2480ee46fbb7e2d37f6b5fab8052498a",
    "execution": {
     "iopub.execute_input": "2021-01-03T10:52:50.783086Z",
     "iopub.status.busy": "2021-01-03T10:52:50.782458Z",
     "iopub.status.idle": "2021-01-03T10:52:50.881046Z",
     "shell.execute_reply": "2021-01-03T10:52:50.881572Z"
    },
    "papermill": {
     "duration": 0.118965,
     "end_time": "2021-01-03T10:52:50.881729",
     "exception": false,
     "start_time": "2021-01-03T10:52:50.762764",
     "status": "completed"
    },
    "tags": []
   },
   "outputs": [],
   "source": [
    "df = pd.read_csv('../input/netflix-shows/netflix_titles.csv')"
   ]
  },
  {
   "cell_type": "code",
   "execution_count": 3,
   "metadata": {
    "execution": {
     "iopub.execute_input": "2021-01-03T10:52:50.918268Z",
     "iopub.status.busy": "2021-01-03T10:52:50.917634Z",
     "iopub.status.idle": "2021-01-03T10:52:50.946536Z",
     "shell.execute_reply": "2021-01-03T10:52:50.947041Z"
    },
    "papermill": {
     "duration": 0.048782,
     "end_time": "2021-01-03T10:52:50.947182",
     "exception": false,
     "start_time": "2021-01-03T10:52:50.898400",
     "status": "completed"
    },
    "tags": []
   },
   "outputs": [
    {
     "data": {
      "text/html": [
       "<div>\n",
       "<style scoped>\n",
       "    .dataframe tbody tr th:only-of-type {\n",
       "        vertical-align: middle;\n",
       "    }\n",
       "\n",
       "    .dataframe tbody tr th {\n",
       "        vertical-align: top;\n",
       "    }\n",
       "\n",
       "    .dataframe thead th {\n",
       "        text-align: right;\n",
       "    }\n",
       "</style>\n",
       "<table border=\"1\" class=\"dataframe\">\n",
       "  <thead>\n",
       "    <tr style=\"text-align: right;\">\n",
       "      <th></th>\n",
       "      <th>show_id</th>\n",
       "      <th>type</th>\n",
       "      <th>title</th>\n",
       "      <th>director</th>\n",
       "      <th>cast</th>\n",
       "      <th>country</th>\n",
       "      <th>date_added</th>\n",
       "      <th>release_year</th>\n",
       "      <th>rating</th>\n",
       "      <th>duration</th>\n",
       "      <th>listed_in</th>\n",
       "      <th>description</th>\n",
       "    </tr>\n",
       "  </thead>\n",
       "  <tbody>\n",
       "    <tr>\n",
       "      <th>0</th>\n",
       "      <td>81145628</td>\n",
       "      <td>Movie</td>\n",
       "      <td>Norm of the North: King Sized Adventure</td>\n",
       "      <td>Richard Finn, Tim Maltby</td>\n",
       "      <td>Alan Marriott, Andrew Toth, Brian Dobson, Cole...</td>\n",
       "      <td>United States, India, South Korea, China</td>\n",
       "      <td>September 9, 2019</td>\n",
       "      <td>2019</td>\n",
       "      <td>TV-PG</td>\n",
       "      <td>90 min</td>\n",
       "      <td>Children &amp; Family Movies, Comedies</td>\n",
       "      <td>Before planning an awesome wedding for his gra...</td>\n",
       "    </tr>\n",
       "    <tr>\n",
       "      <th>1</th>\n",
       "      <td>80117401</td>\n",
       "      <td>Movie</td>\n",
       "      <td>Jandino: Whatever it Takes</td>\n",
       "      <td>NaN</td>\n",
       "      <td>Jandino Asporaat</td>\n",
       "      <td>United Kingdom</td>\n",
       "      <td>September 9, 2016</td>\n",
       "      <td>2016</td>\n",
       "      <td>TV-MA</td>\n",
       "      <td>94 min</td>\n",
       "      <td>Stand-Up Comedy</td>\n",
       "      <td>Jandino Asporaat riffs on the challenges of ra...</td>\n",
       "    </tr>\n",
       "    <tr>\n",
       "      <th>2</th>\n",
       "      <td>70234439</td>\n",
       "      <td>TV Show</td>\n",
       "      <td>Transformers Prime</td>\n",
       "      <td>NaN</td>\n",
       "      <td>Peter Cullen, Sumalee Montano, Frank Welker, J...</td>\n",
       "      <td>United States</td>\n",
       "      <td>September 8, 2018</td>\n",
       "      <td>2013</td>\n",
       "      <td>TV-Y7-FV</td>\n",
       "      <td>1 Season</td>\n",
       "      <td>Kids' TV</td>\n",
       "      <td>With the help of three human allies, the Autob...</td>\n",
       "    </tr>\n",
       "    <tr>\n",
       "      <th>3</th>\n",
       "      <td>80058654</td>\n",
       "      <td>TV Show</td>\n",
       "      <td>Transformers: Robots in Disguise</td>\n",
       "      <td>NaN</td>\n",
       "      <td>Will Friedle, Darren Criss, Constance Zimmer, ...</td>\n",
       "      <td>United States</td>\n",
       "      <td>September 8, 2018</td>\n",
       "      <td>2016</td>\n",
       "      <td>TV-Y7</td>\n",
       "      <td>1 Season</td>\n",
       "      <td>Kids' TV</td>\n",
       "      <td>When a prison ship crash unleashes hundreds of...</td>\n",
       "    </tr>\n",
       "    <tr>\n",
       "      <th>4</th>\n",
       "      <td>80125979</td>\n",
       "      <td>Movie</td>\n",
       "      <td>#realityhigh</td>\n",
       "      <td>Fernando Lebrija</td>\n",
       "      <td>Nesta Cooper, Kate Walsh, John Michael Higgins...</td>\n",
       "      <td>United States</td>\n",
       "      <td>September 8, 2017</td>\n",
       "      <td>2017</td>\n",
       "      <td>TV-14</td>\n",
       "      <td>99 min</td>\n",
       "      <td>Comedies</td>\n",
       "      <td>When nerdy high schooler Dani finally attracts...</td>\n",
       "    </tr>\n",
       "  </tbody>\n",
       "</table>\n",
       "</div>"
      ],
      "text/plain": [
       "    show_id     type                                    title  \\\n",
       "0  81145628    Movie  Norm of the North: King Sized Adventure   \n",
       "1  80117401    Movie               Jandino: Whatever it Takes   \n",
       "2  70234439  TV Show                       Transformers Prime   \n",
       "3  80058654  TV Show         Transformers: Robots in Disguise   \n",
       "4  80125979    Movie                             #realityhigh   \n",
       "\n",
       "                   director  \\\n",
       "0  Richard Finn, Tim Maltby   \n",
       "1                       NaN   \n",
       "2                       NaN   \n",
       "3                       NaN   \n",
       "4          Fernando Lebrija   \n",
       "\n",
       "                                                cast  \\\n",
       "0  Alan Marriott, Andrew Toth, Brian Dobson, Cole...   \n",
       "1                                   Jandino Asporaat   \n",
       "2  Peter Cullen, Sumalee Montano, Frank Welker, J...   \n",
       "3  Will Friedle, Darren Criss, Constance Zimmer, ...   \n",
       "4  Nesta Cooper, Kate Walsh, John Michael Higgins...   \n",
       "\n",
       "                                    country         date_added  release_year  \\\n",
       "0  United States, India, South Korea, China  September 9, 2019          2019   \n",
       "1                            United Kingdom  September 9, 2016          2016   \n",
       "2                             United States  September 8, 2018          2013   \n",
       "3                             United States  September 8, 2018          2016   \n",
       "4                             United States  September 8, 2017          2017   \n",
       "\n",
       "     rating  duration                           listed_in  \\\n",
       "0     TV-PG    90 min  Children & Family Movies, Comedies   \n",
       "1     TV-MA    94 min                     Stand-Up Comedy   \n",
       "2  TV-Y7-FV  1 Season                            Kids' TV   \n",
       "3     TV-Y7  1 Season                            Kids' TV   \n",
       "4     TV-14    99 min                            Comedies   \n",
       "\n",
       "                                         description  \n",
       "0  Before planning an awesome wedding for his gra...  \n",
       "1  Jandino Asporaat riffs on the challenges of ra...  \n",
       "2  With the help of three human allies, the Autob...  \n",
       "3  When a prison ship crash unleashes hundreds of...  \n",
       "4  When nerdy high schooler Dani finally attracts...  "
      ]
     },
     "execution_count": 3,
     "metadata": {},
     "output_type": "execute_result"
    }
   ],
   "source": [
    "df.head()"
   ]
  },
  {
   "cell_type": "code",
   "execution_count": 4,
   "metadata": {
    "execution": {
     "iopub.execute_input": "2021-01-03T10:52:50.995260Z",
     "iopub.status.busy": "2021-01-03T10:52:50.994533Z",
     "iopub.status.idle": "2021-01-03T10:52:51.008848Z",
     "shell.execute_reply": "2021-01-03T10:52:51.008258Z"
    },
    "papermill": {
     "duration": 0.043939,
     "end_time": "2021-01-03T10:52:51.008974",
     "exception": false,
     "start_time": "2021-01-03T10:52:50.965035",
     "status": "completed"
    },
    "tags": []
   },
   "outputs": [
    {
     "name": "stdout",
     "output_type": "stream",
     "text": [
      "<class 'pandas.core.frame.DataFrame'>\n",
      "RangeIndex: 6234 entries, 0 to 6233\n",
      "Data columns (total 12 columns):\n",
      " #   Column        Non-Null Count  Dtype \n",
      "---  ------        --------------  ----- \n",
      " 0   show_id       6234 non-null   int64 \n",
      " 1   type          6234 non-null   object\n",
      " 2   title         6234 non-null   object\n",
      " 3   director      4265 non-null   object\n",
      " 4   cast          5664 non-null   object\n",
      " 5   country       5758 non-null   object\n",
      " 6   date_added    6223 non-null   object\n",
      " 7   release_year  6234 non-null   int64 \n",
      " 8   rating        6224 non-null   object\n",
      " 9   duration      6234 non-null   object\n",
      " 10  listed_in     6234 non-null   object\n",
      " 11  description   6234 non-null   object\n",
      "dtypes: int64(2), object(10)\n",
      "memory usage: 584.6+ KB\n"
     ]
    }
   ],
   "source": [
    "df.info()"
   ]
  },
  {
   "cell_type": "markdown",
   "metadata": {
    "papermill": {
     "duration": 0.017443,
     "end_time": "2021-01-03T10:52:51.044619",
     "exception": false,
     "start_time": "2021-01-03T10:52:51.027176",
     "status": "completed"
    },
    "tags": []
   },
   "source": [
    "## What are the most used words in the descriptions?"
   ]
  },
  {
   "cell_type": "code",
   "execution_count": 5,
   "metadata": {
    "execution": {
     "iopub.execute_input": "2021-01-03T10:52:51.087193Z",
     "iopub.status.busy": "2021-01-03T10:52:51.086545Z",
     "iopub.status.idle": "2021-01-03T10:52:51.089777Z",
     "shell.execute_reply": "2021-01-03T10:52:51.088819Z"
    },
    "papermill": {
     "duration": 0.027281,
     "end_time": "2021-01-03T10:52:51.089898",
     "exception": false,
     "start_time": "2021-01-03T10:52:51.062617",
     "status": "completed"
    },
    "tags": []
   },
   "outputs": [],
   "source": [
    "def desc_list(description):\n",
    "    '''Takes a string, removes punctuation and stopwords and returns a list of words.'''\n",
    "    tokenizer = RegexpTokenizer(r'\\w+')\n",
    "    y = tokenizer.tokenize(description.lower())\n",
    "    l = [word for word in y if not word in stopwords.words('english')]\n",
    "    return l"
   ]
  },
  {
   "cell_type": "code",
   "execution_count": 6,
   "metadata": {
    "execution": {
     "iopub.execute_input": "2021-01-03T10:52:51.132082Z",
     "iopub.status.busy": "2021-01-03T10:52:51.131436Z",
     "iopub.status.idle": "2021-01-03T10:53:11.143891Z",
     "shell.execute_reply": "2021-01-03T10:53:11.143234Z"
    },
    "papermill": {
     "duration": 20.036256,
     "end_time": "2021-01-03T10:53:11.144012",
     "exception": false,
     "start_time": "2021-01-03T10:52:51.107756",
     "status": "completed"
    },
    "tags": []
   },
   "outputs": [],
   "source": [
    "df['desc_lists'] = df['description'].apply(desc_list)"
   ]
  },
  {
   "cell_type": "code",
   "execution_count": 7,
   "metadata": {
    "execution": {
     "iopub.execute_input": "2021-01-03T10:53:11.191545Z",
     "iopub.status.busy": "2021-01-03T10:53:11.190526Z",
     "iopub.status.idle": "2021-01-03T10:53:11.194228Z",
     "shell.execute_reply": "2021-01-03T10:53:11.193724Z"
    },
    "papermill": {
     "duration": 0.031866,
     "end_time": "2021-01-03T10:53:11.194339",
     "exception": false,
     "start_time": "2021-01-03T10:53:11.162473",
     "status": "completed"
    },
    "tags": []
   },
   "outputs": [
    {
     "data": {
      "text/plain": [
       "0       [planning, awesome, wedding, grandfather, pola...\n",
       "1       [jandino, asporaat, riffs, challenges, raising...\n",
       "2       [help, three, human, allies, autobots, protect...\n",
       "3       [prison, ship, crash, unleashes, hundreds, dec...\n",
       "4       [nerdy, high, schooler, dani, finally, attract...\n",
       "                              ...                        \n",
       "6229    [parody, first, person, shooter, games, milita...\n",
       "6230    [marc, maron, stars, marc, maron, interviews, ...\n",
       "6231    [nursery, rhymes, original, music, children, a...\n",
       "6232    [set, russian, revolution, comic, miniseries, ...\n",
       "6233    [hit, sitcom, follows, merry, misadventures, s...\n",
       "Name: desc_lists, Length: 6234, dtype: object"
      ]
     },
     "execution_count": 7,
     "metadata": {},
     "output_type": "execute_result"
    }
   ],
   "source": [
    "df['desc_lists']"
   ]
  },
  {
   "cell_type": "code",
   "execution_count": 8,
   "metadata": {
    "execution": {
     "iopub.execute_input": "2021-01-03T10:53:11.239861Z",
     "iopub.status.busy": "2021-01-03T10:53:11.239137Z",
     "iopub.status.idle": "2021-01-03T10:53:11.241069Z",
     "shell.execute_reply": "2021-01-03T10:53:11.241540Z"
    },
    "papermill": {
     "duration": 0.029073,
     "end_time": "2021-01-03T10:53:11.241681",
     "exception": false,
     "start_time": "2021-01-03T10:53:11.212608",
     "status": "completed"
    },
    "tags": []
   },
   "outputs": [],
   "source": [
    "# We merge all the lists into one\n",
    "all_words = []\n",
    "for l in df.desc_lists:\n",
    "    all_words.extend(l)"
   ]
  },
  {
   "cell_type": "code",
   "execution_count": 9,
   "metadata": {
    "execution": {
     "iopub.execute_input": "2021-01-03T10:53:11.347056Z",
     "iopub.status.busy": "2021-01-03T10:53:11.310552Z",
     "iopub.status.idle": "2021-01-03T10:53:12.474143Z",
     "shell.execute_reply": "2021-01-03T10:53:12.473488Z"
    },
    "papermill": {
     "duration": 1.213747,
     "end_time": "2021-01-03T10:53:12.474267",
     "exception": false,
     "start_time": "2021-01-03T10:53:11.260520",
     "status": "completed"
    },
    "tags": []
   },
   "outputs": [],
   "source": [
    "# Prepare the data for visualization\n",
    "word_counts = pd.DataFrame(Counter(all_words), index=[0]).T.reset_index()\n",
    "word_counts.rename(columns={'index':'word', 0:'count'}, inplace=True)\n",
    "word_counts = word_counts.sort_values(by='count', ascending=False)"
   ]
  },
  {
   "cell_type": "code",
   "execution_count": 10,
   "metadata": {
    "execution": {
     "iopub.execute_input": "2021-01-03T10:53:12.518196Z",
     "iopub.status.busy": "2021-01-03T10:53:12.517573Z",
     "iopub.status.idle": "2021-01-03T10:53:13.638434Z",
     "shell.execute_reply": "2021-01-03T10:53:13.638913Z"
    },
    "papermill": {
     "duration": 1.146069,
     "end_time": "2021-01-03T10:53:13.639082",
     "exception": false,
     "start_time": "2021-01-03T10:53:12.493013",
     "status": "completed"
    },
    "tags": []
   },
   "outputs": [
    {
     "data": {
      "text/html": [
       "        <script type=\"text/javascript\">\n",
       "        window.PlotlyConfig = {MathJaxConfig: 'local'};\n",
       "        if (window.MathJax) {MathJax.Hub.Config({SVG: {font: \"STIX-Web\"}});}\n",
       "        if (typeof require !== 'undefined') {\n",
       "        require.undef(\"plotly\");\n",
       "        requirejs.config({\n",
       "            paths: {\n",
       "                'plotly': ['https://cdn.plot.ly/plotly-latest.min']\n",
       "            }\n",
       "        });\n",
       "        require(['plotly'], function(Plotly) {\n",
       "            window._Plotly = Plotly;\n",
       "        });\n",
       "        }\n",
       "        </script>\n",
       "        "
      ]
     },
     "metadata": {},
     "output_type": "display_data"
    },
    {
     "data": {
      "text/html": [
       "<div>                            <div id=\"07cfa6ec-d63f-461c-bf4c-c24631933a83\" class=\"plotly-graph-div\" style=\"height:525px; width:100%;\"></div>            <script type=\"text/javascript\">                require([\"plotly\"], function(Plotly) {                    window.PLOTLYENV=window.PLOTLYENV || {};                                    if (document.getElementById(\"07cfa6ec-d63f-461c-bf4c-c24631933a83\")) {                    Plotly.newPlot(                        \"07cfa6ec-d63f-461c-bf4c-c24631933a83\",                        [{\"alignmentgroup\": \"True\", \"hovertemplate\": \"word=%{x}<br>count=%{text}<extra></extra>\", \"legendgroup\": \"\", \"marker\": {\"color\": \"#636efa\"}, \"name\": \"\", \"offsetgroup\": \"\", \"orientation\": \"v\", \"showlegend\": false, \"text\": [599.0, 511.0, 491.0, 418.0, 404.0, 394.0, 367.0, 341.0, 331.0, 303.0, 288.0, 278.0, 262.0, 246.0, 242.0, 236.0, 221.0, 221.0, 219.0, 218.0, 216.0, 208.0, 199.0, 198.0, 192.0, 183.0, 181.0, 176.0, 168.0, 167.0], \"textposition\": \"outside\", \"type\": \"bar\", \"x\": [\"life\", \"young\", \"new\", \"family\", \"world\", \"man\", \"two\", \"love\", \"woman\", \"friends\", \"series\", \"one\", \"documentary\", \"must\", \"school\", \"find\", \"father\", \"three\", \"old\", \"finds\", \"help\", \"high\", \"home\", \"lives\", \"years\", \"takes\", \"girl\", \"take\", \"group\", \"city\"], \"xaxis\": \"x\", \"y\": [599, 511, 491, 418, 404, 394, 367, 341, 331, 303, 288, 278, 262, 246, 242, 236, 221, 221, 219, 218, 216, 208, 199, 198, 192, 183, 181, 176, 168, 167], \"yaxis\": \"y\"}],                        {\"barmode\": \"relative\", \"legend\": {\"tracegroupgap\": 0}, \"margin\": {\"t\": 60}, \"template\": {\"data\": {\"bar\": [{\"error_x\": {\"color\": \"#2a3f5f\"}, \"error_y\": {\"color\": \"#2a3f5f\"}, \"marker\": {\"line\": {\"color\": \"#E5ECF6\", \"width\": 0.5}}, \"type\": \"bar\"}], \"barpolar\": [{\"marker\": {\"line\": {\"color\": \"#E5ECF6\", \"width\": 0.5}}, \"type\": \"barpolar\"}], \"carpet\": [{\"aaxis\": {\"endlinecolor\": \"#2a3f5f\", \"gridcolor\": \"white\", \"linecolor\": \"white\", \"minorgridcolor\": \"white\", \"startlinecolor\": \"#2a3f5f\"}, \"baxis\": {\"endlinecolor\": \"#2a3f5f\", \"gridcolor\": \"white\", \"linecolor\": \"white\", \"minorgridcolor\": \"white\", \"startlinecolor\": \"#2a3f5f\"}, \"type\": \"carpet\"}], \"choropleth\": [{\"colorbar\": {\"outlinewidth\": 0, \"ticks\": \"\"}, \"type\": \"choropleth\"}], \"contour\": [{\"colorbar\": {\"outlinewidth\": 0, \"ticks\": \"\"}, \"colorscale\": [[0.0, \"#0d0887\"], [0.1111111111111111, \"#46039f\"], [0.2222222222222222, \"#7201a8\"], [0.3333333333333333, \"#9c179e\"], [0.4444444444444444, \"#bd3786\"], [0.5555555555555556, \"#d8576b\"], [0.6666666666666666, \"#ed7953\"], [0.7777777777777778, \"#fb9f3a\"], [0.8888888888888888, \"#fdca26\"], [1.0, \"#f0f921\"]], \"type\": \"contour\"}], \"contourcarpet\": [{\"colorbar\": {\"outlinewidth\": 0, \"ticks\": \"\"}, \"type\": \"contourcarpet\"}], \"heatmap\": [{\"colorbar\": {\"outlinewidth\": 0, \"ticks\": \"\"}, \"colorscale\": [[0.0, \"#0d0887\"], [0.1111111111111111, \"#46039f\"], [0.2222222222222222, \"#7201a8\"], [0.3333333333333333, \"#9c179e\"], [0.4444444444444444, \"#bd3786\"], [0.5555555555555556, \"#d8576b\"], [0.6666666666666666, \"#ed7953\"], [0.7777777777777778, \"#fb9f3a\"], [0.8888888888888888, \"#fdca26\"], [1.0, \"#f0f921\"]], \"type\": \"heatmap\"}], \"heatmapgl\": [{\"colorbar\": {\"outlinewidth\": 0, \"ticks\": \"\"}, \"colorscale\": [[0.0, \"#0d0887\"], [0.1111111111111111, \"#46039f\"], [0.2222222222222222, \"#7201a8\"], [0.3333333333333333, \"#9c179e\"], [0.4444444444444444, \"#bd3786\"], [0.5555555555555556, \"#d8576b\"], [0.6666666666666666, \"#ed7953\"], [0.7777777777777778, \"#fb9f3a\"], [0.8888888888888888, \"#fdca26\"], [1.0, \"#f0f921\"]], \"type\": \"heatmapgl\"}], \"histogram\": [{\"marker\": {\"colorbar\": {\"outlinewidth\": 0, \"ticks\": \"\"}}, \"type\": \"histogram\"}], \"histogram2d\": [{\"colorbar\": {\"outlinewidth\": 0, \"ticks\": \"\"}, \"colorscale\": [[0.0, \"#0d0887\"], [0.1111111111111111, \"#46039f\"], [0.2222222222222222, \"#7201a8\"], [0.3333333333333333, \"#9c179e\"], [0.4444444444444444, \"#bd3786\"], [0.5555555555555556, \"#d8576b\"], [0.6666666666666666, \"#ed7953\"], [0.7777777777777778, \"#fb9f3a\"], [0.8888888888888888, \"#fdca26\"], [1.0, \"#f0f921\"]], \"type\": \"histogram2d\"}], \"histogram2dcontour\": [{\"colorbar\": {\"outlinewidth\": 0, \"ticks\": \"\"}, \"colorscale\": [[0.0, \"#0d0887\"], [0.1111111111111111, \"#46039f\"], [0.2222222222222222, \"#7201a8\"], [0.3333333333333333, \"#9c179e\"], [0.4444444444444444, \"#bd3786\"], [0.5555555555555556, \"#d8576b\"], [0.6666666666666666, \"#ed7953\"], [0.7777777777777778, \"#fb9f3a\"], [0.8888888888888888, \"#fdca26\"], [1.0, \"#f0f921\"]], \"type\": \"histogram2dcontour\"}], \"mesh3d\": [{\"colorbar\": {\"outlinewidth\": 0, \"ticks\": \"\"}, \"type\": \"mesh3d\"}], \"parcoords\": [{\"line\": {\"colorbar\": {\"outlinewidth\": 0, \"ticks\": \"\"}}, \"type\": \"parcoords\"}], \"pie\": [{\"automargin\": true, \"type\": \"pie\"}], \"scatter\": [{\"marker\": {\"colorbar\": {\"outlinewidth\": 0, \"ticks\": \"\"}}, \"type\": \"scatter\"}], \"scatter3d\": [{\"line\": {\"colorbar\": {\"outlinewidth\": 0, \"ticks\": \"\"}}, \"marker\": {\"colorbar\": {\"outlinewidth\": 0, \"ticks\": \"\"}}, \"type\": \"scatter3d\"}], \"scattercarpet\": [{\"marker\": {\"colorbar\": {\"outlinewidth\": 0, \"ticks\": \"\"}}, \"type\": \"scattercarpet\"}], \"scattergeo\": [{\"marker\": {\"colorbar\": {\"outlinewidth\": 0, \"ticks\": \"\"}}, \"type\": \"scattergeo\"}], \"scattergl\": [{\"marker\": {\"colorbar\": {\"outlinewidth\": 0, \"ticks\": \"\"}}, \"type\": \"scattergl\"}], \"scattermapbox\": [{\"marker\": {\"colorbar\": {\"outlinewidth\": 0, \"ticks\": \"\"}}, \"type\": \"scattermapbox\"}], \"scatterpolar\": [{\"marker\": {\"colorbar\": {\"outlinewidth\": 0, \"ticks\": \"\"}}, \"type\": \"scatterpolar\"}], \"scatterpolargl\": [{\"marker\": {\"colorbar\": {\"outlinewidth\": 0, \"ticks\": \"\"}}, \"type\": \"scatterpolargl\"}], \"scatterternary\": [{\"marker\": {\"colorbar\": {\"outlinewidth\": 0, \"ticks\": \"\"}}, \"type\": \"scatterternary\"}], \"surface\": [{\"colorbar\": {\"outlinewidth\": 0, \"ticks\": \"\"}, \"colorscale\": [[0.0, \"#0d0887\"], [0.1111111111111111, \"#46039f\"], [0.2222222222222222, \"#7201a8\"], [0.3333333333333333, \"#9c179e\"], [0.4444444444444444, \"#bd3786\"], [0.5555555555555556, \"#d8576b\"], [0.6666666666666666, \"#ed7953\"], [0.7777777777777778, \"#fb9f3a\"], [0.8888888888888888, \"#fdca26\"], [1.0, \"#f0f921\"]], \"type\": \"surface\"}], \"table\": [{\"cells\": {\"fill\": {\"color\": \"#EBF0F8\"}, \"line\": {\"color\": \"white\"}}, \"header\": {\"fill\": {\"color\": \"#C8D4E3\"}, \"line\": {\"color\": \"white\"}}, \"type\": \"table\"}]}, \"layout\": {\"annotationdefaults\": {\"arrowcolor\": \"#2a3f5f\", \"arrowhead\": 0, \"arrowwidth\": 1}, \"autotypenumbers\": \"strict\", \"coloraxis\": {\"colorbar\": {\"outlinewidth\": 0, \"ticks\": \"\"}}, \"colorscale\": {\"diverging\": [[0, \"#8e0152\"], [0.1, \"#c51b7d\"], [0.2, \"#de77ae\"], [0.3, \"#f1b6da\"], [0.4, \"#fde0ef\"], [0.5, \"#f7f7f7\"], [0.6, \"#e6f5d0\"], [0.7, \"#b8e186\"], [0.8, \"#7fbc41\"], [0.9, \"#4d9221\"], [1, \"#276419\"]], \"sequential\": [[0.0, \"#0d0887\"], [0.1111111111111111, \"#46039f\"], [0.2222222222222222, \"#7201a8\"], [0.3333333333333333, \"#9c179e\"], [0.4444444444444444, \"#bd3786\"], [0.5555555555555556, \"#d8576b\"], [0.6666666666666666, \"#ed7953\"], [0.7777777777777778, \"#fb9f3a\"], [0.8888888888888888, \"#fdca26\"], [1.0, \"#f0f921\"]], \"sequentialminus\": [[0.0, \"#0d0887\"], [0.1111111111111111, \"#46039f\"], [0.2222222222222222, \"#7201a8\"], [0.3333333333333333, \"#9c179e\"], [0.4444444444444444, \"#bd3786\"], [0.5555555555555556, \"#d8576b\"], [0.6666666666666666, \"#ed7953\"], [0.7777777777777778, \"#fb9f3a\"], [0.8888888888888888, \"#fdca26\"], [1.0, \"#f0f921\"]]}, \"colorway\": [\"#636efa\", \"#EF553B\", \"#00cc96\", \"#ab63fa\", \"#FFA15A\", \"#19d3f3\", \"#FF6692\", \"#B6E880\", \"#FF97FF\", \"#FECB52\"], \"font\": {\"color\": \"#2a3f5f\"}, \"geo\": {\"bgcolor\": \"white\", \"lakecolor\": \"white\", \"landcolor\": \"#E5ECF6\", \"showlakes\": true, \"showland\": true, \"subunitcolor\": \"white\"}, \"hoverlabel\": {\"align\": \"left\"}, \"hovermode\": \"closest\", \"mapbox\": {\"style\": \"light\"}, \"paper_bgcolor\": \"white\", \"plot_bgcolor\": \"#E5ECF6\", \"polar\": {\"angularaxis\": {\"gridcolor\": \"white\", \"linecolor\": \"white\", \"ticks\": \"\"}, \"bgcolor\": \"#E5ECF6\", \"radialaxis\": {\"gridcolor\": \"white\", \"linecolor\": \"white\", \"ticks\": \"\"}}, \"scene\": {\"xaxis\": {\"backgroundcolor\": \"#E5ECF6\", \"gridcolor\": \"white\", \"gridwidth\": 2, \"linecolor\": \"white\", \"showbackground\": true, \"ticks\": \"\", \"zerolinecolor\": \"white\"}, \"yaxis\": {\"backgroundcolor\": \"#E5ECF6\", \"gridcolor\": \"white\", \"gridwidth\": 2, \"linecolor\": \"white\", \"showbackground\": true, \"ticks\": \"\", \"zerolinecolor\": \"white\"}, \"zaxis\": {\"backgroundcolor\": \"#E5ECF6\", \"gridcolor\": \"white\", \"gridwidth\": 2, \"linecolor\": \"white\", \"showbackground\": true, \"ticks\": \"\", \"zerolinecolor\": \"white\"}}, \"shapedefaults\": {\"line\": {\"color\": \"#2a3f5f\"}}, \"ternary\": {\"aaxis\": {\"gridcolor\": \"white\", \"linecolor\": \"white\", \"ticks\": \"\"}, \"baxis\": {\"gridcolor\": \"white\", \"linecolor\": \"white\", \"ticks\": \"\"}, \"bgcolor\": \"#E5ECF6\", \"caxis\": {\"gridcolor\": \"white\", \"linecolor\": \"white\", \"ticks\": \"\"}}, \"title\": {\"x\": 0.05}, \"xaxis\": {\"automargin\": true, \"gridcolor\": \"white\", \"linecolor\": \"white\", \"ticks\": \"\", \"title\": {\"standoff\": 15}, \"zerolinecolor\": \"white\", \"zerolinewidth\": 2}, \"yaxis\": {\"automargin\": true, \"gridcolor\": \"white\", \"linecolor\": \"white\", \"ticks\": \"\", \"title\": {\"standoff\": 15}, \"zerolinecolor\": \"white\", \"zerolinewidth\": 2}}}, \"uniformtext\": {\"minsize\": 5}, \"xaxis\": {\"anchor\": \"y\", \"domain\": [0.0, 1.0], \"tickangle\": 45, \"title\": {\"text\": \"word\"}}, \"yaxis\": {\"anchor\": \"x\", \"domain\": [0.0, 1.0], \"title\": {\"text\": \"count\"}}},                        {\"responsive\": true}                    ).then(function(){\n",
       "                            \n",
       "var gd = document.getElementById('07cfa6ec-d63f-461c-bf4c-c24631933a83');\n",
       "var x = new MutationObserver(function (mutations, observer) {{\n",
       "        var display = window.getComputedStyle(gd).display;\n",
       "        if (!display || display === 'none') {{\n",
       "            console.log([gd, 'removed!']);\n",
       "            Plotly.purge(gd);\n",
       "            observer.disconnect();\n",
       "        }}\n",
       "}});\n",
       "\n",
       "// Listen for the removal of the full notebook cells\n",
       "var notebookContainer = gd.closest('#notebook-container');\n",
       "if (notebookContainer) {{\n",
       "    x.observe(notebookContainer, {childList: true});\n",
       "}}\n",
       "\n",
       "// Listen for the clearing of the current output cell\n",
       "var outputEl = gd.closest('.output');\n",
       "if (outputEl) {{\n",
       "    x.observe(outputEl, {childList: true});\n",
       "}}\n",
       "\n",
       "                        })                };                });            </script>        </div>"
      ]
     },
     "metadata": {},
     "output_type": "display_data"
    }
   ],
   "source": [
    "fig = px.bar(word_counts.iloc[:30], y='count', x='word', text='count')\n",
    "\n",
    "fig.update_traces(textposition='outside')\n",
    "fig.update_layout(uniformtext_minsize=5)\n",
    "fig.update_xaxes(tickangle=45)\n",
    "\n",
    "fig.show()"
   ]
  },
  {
   "cell_type": "markdown",
   "metadata": {
    "papermill": {
     "duration": 0.01979,
     "end_time": "2021-01-03T10:53:13.679046",
     "exception": false,
     "start_time": "2021-01-03T10:53:13.659256",
     "status": "completed"
    },
    "tags": []
   },
   "source": [
    "## What about most common words by audience suitability rating?"
   ]
  },
  {
   "cell_type": "code",
   "execution_count": 11,
   "metadata": {
    "execution": {
     "iopub.execute_input": "2021-01-03T10:53:13.729005Z",
     "iopub.status.busy": "2021-01-03T10:53:13.728343Z",
     "iopub.status.idle": "2021-01-03T10:53:13.732889Z",
     "shell.execute_reply": "2021-01-03T10:53:13.732332Z"
    },
    "papermill": {
     "duration": 0.033438,
     "end_time": "2021-01-03T10:53:13.732992",
     "exception": false,
     "start_time": "2021-01-03T10:53:13.699554",
     "status": "completed"
    },
    "tags": []
   },
   "outputs": [
    {
     "data": {
      "text/plain": [
       "TV-MA       2027\n",
       "TV-14       1698\n",
       "TV-PG        701\n",
       "R            508\n",
       "PG-13        286\n",
       "NR           218\n",
       "PG           184\n",
       "TV-Y7        169\n",
       "TV-G         149\n",
       "TV-Y         143\n",
       "TV-Y7-FV      95\n",
       "G             37\n",
       "UR             7\n",
       "NC-17          2\n",
       "Name: rating, dtype: int64"
      ]
     },
     "execution_count": 11,
     "metadata": {},
     "output_type": "execute_result"
    }
   ],
   "source": [
    "df['rating'].value_counts()"
   ]
  },
  {
   "cell_type": "code",
   "execution_count": 12,
   "metadata": {
    "execution": {
     "iopub.execute_input": "2021-01-03T10:53:13.780723Z",
     "iopub.status.busy": "2021-01-03T10:53:13.778987Z",
     "iopub.status.idle": "2021-01-03T10:53:13.784313Z",
     "shell.execute_reply": "2021-01-03T10:53:13.784744Z"
    },
    "papermill": {
     "duration": 0.031279,
     "end_time": "2021-01-03T10:53:13.784889",
     "exception": false,
     "start_time": "2021-01-03T10:53:13.753610",
     "status": "completed"
    },
    "tags": []
   },
   "outputs": [
    {
     "data": {
      "text/plain": [
       "['G',\n",
       " 'NC-17',\n",
       " 'NR',\n",
       " 'PG',\n",
       " 'PG-13',\n",
       " 'R',\n",
       " 'TV-14',\n",
       " 'TV-G',\n",
       " 'TV-MA',\n",
       " 'TV-PG',\n",
       " 'TV-Y',\n",
       " 'TV-Y7',\n",
       " 'TV-Y7-FV',\n",
       " 'UR']"
      ]
     },
     "execution_count": 12,
     "metadata": {},
     "output_type": "execute_result"
    }
   ],
   "source": [
    "sorted(set(df['rating'].dropna()))"
   ]
  },
  {
   "cell_type": "code",
   "execution_count": 13,
   "metadata": {
    "execution": {
     "iopub.execute_input": "2021-01-03T10:53:13.830409Z",
     "iopub.status.busy": "2021-01-03T10:53:13.829742Z",
     "iopub.status.idle": "2021-01-03T10:53:16.447459Z",
     "shell.execute_reply": "2021-01-03T10:53:16.448002Z"
    },
    "papermill": {
     "duration": 2.642173,
     "end_time": "2021-01-03T10:53:16.448151",
     "exception": false,
     "start_time": "2021-01-03T10:53:13.805978",
     "status": "completed"
    },
    "tags": []
   },
   "outputs": [],
   "source": [
    "# Create a dictionary with the rating categories as keys and dataframes with all the word counts for each rating as values.\n",
    "d_ratings = {}\n",
    "for rating in sorted(set(df['rating'].dropna())):\n",
    "    if pd.isnull(rating):\n",
    "        continue\n",
    "    else:\n",
    "        l = []\n",
    "        for subl in df[df['rating'] == rating]['desc_lists']:\n",
    "            l.extend(subl)\n",
    "        dff = pd.DataFrame(Counter(l), index=[0]).T/df['rating'].value_counts()[rating] # we devide the word count by the total number of titles in each rating\n",
    "        d_ratings[rating] = dff.reset_index().rename(columns={'index':'word', 0:'count'}).sort_values(by='count', ascending=True)"
   ]
  },
  {
   "cell_type": "code",
   "execution_count": 14,
   "metadata": {
    "execution": {
     "iopub.execute_input": "2021-01-03T10:53:16.503790Z",
     "iopub.status.busy": "2021-01-03T10:53:16.502850Z",
     "iopub.status.idle": "2021-01-03T10:53:16.543644Z",
     "shell.execute_reply": "2021-01-03T10:53:16.544236Z"
    },
    "papermill": {
     "duration": 0.068535,
     "end_time": "2021-01-03T10:53:16.544415",
     "exception": false,
     "start_time": "2021-01-03T10:53:16.475880",
     "status": "completed"
    },
    "tags": []
   },
   "outputs": [
    {
     "name": "stdout",
     "output_type": "stream",
     "text": [
      "G\n",
      "        word     count\n",
      "35      save  0.108108\n",
      "424     half  0.108108\n",
      "18       get  0.108108\n",
      "224  friends  0.108108\n",
      "145    world  0.189189\n",
      "\n",
      "\n",
      "NC-17\n",
      "        word  count\n",
      "2     friend    0.5\n",
      "1       best    0.5\n",
      "28    piques    0.5\n",
      "29  interest    0.5\n",
      "7    student    1.0\n",
      "\n",
      "\n",
      "NR\n",
      "       word     count\n",
      "32      new  0.077982\n",
      "0       man  0.077982\n",
      "249  family  0.082569\n",
      "143    life  0.082569\n",
      "15    young  0.087156\n",
      "\n",
      "\n",
      "PG\n",
      "       word     count\n",
      "158    help  0.076087\n",
      "147     new  0.097826\n",
      "29    young  0.097826\n",
      "288  family  0.097826\n",
      "58    world  0.114130\n",
      "\n",
      "\n",
      "PG-13\n",
      "      word     count\n",
      "98    must  0.080420\n",
      "146   life  0.083916\n",
      "1    young  0.087413\n",
      "52   world  0.087413\n",
      "30     new  0.094406\n",
      "\n",
      "\n",
      "R\n",
      "      word     count\n",
      "96     two  0.062992\n",
      "102  woman  0.062992\n",
      "159  young  0.078740\n",
      "57     new  0.092520\n",
      "508   life  0.102362\n",
      "\n",
      "\n",
      "TV-14\n",
      "       word     count\n",
      "244  family  0.082450\n",
      "163     man  0.090106\n",
      "19     love  0.091873\n",
      "173   young  0.098940\n",
      "41     life  0.098940\n",
      "\n",
      "\n",
      "TV-G\n",
      "        word     count\n",
      "267   school  0.067114\n",
      "83    behind  0.080537\n",
      "38     world  0.087248\n",
      "53       new  0.093960\n",
      "467  friends  0.093960\n",
      "\n",
      "\n",
      "TV-MA\n",
      "       word     count\n",
      "21   family  0.059201\n",
      "75      new  0.066108\n",
      "566     man  0.068081\n",
      "14    young  0.078934\n",
      "17     life  0.104095\n",
      "\n",
      "\n",
      "TV-PG\n",
      "      word     count\n",
      "427  young  0.075606\n",
      "316    new  0.078459\n",
      "326   love  0.081312\n",
      "243  world  0.092725\n",
      "87    life  0.115549\n",
      "\n",
      "\n",
      "TV-Y\n",
      "           word     count\n",
      "75   adventures  0.146853\n",
      "236         new  0.153846\n",
      "107       world  0.160839\n",
      "25          fun  0.174825\n",
      "17      friends  0.293706\n",
      "\n",
      "\n",
      "TV-Y7\n",
      "        word     count\n",
      "169   series  0.100592\n",
      "9        new  0.106509\n",
      "215     save  0.106509\n",
      "118    world  0.147929\n",
      "129  friends  0.171598\n",
      "\n",
      "\n",
      "TV-Y7-FV\n",
      "        word     count\n",
      "47      save  0.126316\n",
      "65       new  0.157895\n",
      "89      evil  0.189474\n",
      "332    power  0.189474\n",
      "43   rangers  0.263158\n",
      "\n",
      "\n",
      "UR\n",
      "      word     count\n",
      "30   based  0.142857\n",
      "40  mumbai  0.142857\n",
      "70    girl  0.285714\n",
      "16   chuck  0.285714\n",
      "13    true  0.285714\n",
      "\n",
      "\n"
     ]
    }
   ],
   "source": [
    "for key, val in d_ratings.items():\n",
    "    print(key)\n",
    "    print(val.iloc[-5:])\n",
    "    print('\\n')"
   ]
  },
  {
   "cell_type": "code",
   "execution_count": 15,
   "metadata": {
    "execution": {
     "iopub.execute_input": "2021-01-03T10:53:16.656046Z",
     "iopub.status.busy": "2021-01-03T10:53:16.621864Z",
     "iopub.status.idle": "2021-01-03T10:53:16.953640Z",
     "shell.execute_reply": "2021-01-03T10:53:16.954347Z"
    },
    "papermill": {
     "duration": 0.385559,
     "end_time": "2021-01-03T10:53:16.954527",
     "exception": false,
     "start_time": "2021-01-03T10:53:16.568968",
     "status": "completed"
    },
    "tags": []
   },
   "outputs": [
    {
     "data": {
      "text/html": [
       "<div>                            <div id=\"f6c7dc0b-740f-4019-a1c6-fb99a7873051\" class=\"plotly-graph-div\" style=\"height:1500px; width:1200px;\"></div>            <script type=\"text/javascript\">                require([\"plotly\"], function(Plotly) {                    window.PLOTLYENV=window.PLOTLYENV || {};                                    if (document.getElementById(\"f6c7dc0b-740f-4019-a1c6-fb99a7873051\")) {                    Plotly.newPlot(                        \"f6c7dc0b-740f-4019-a1c6-fb99a7873051\",                        [{\"orientation\": \"h\", \"text\": [\"0.08\", \"0.08\", \"0.08\", \"0.11\", \"0.11\", \"0.11\", \"0.11\", \"0.11\", \"0.11\", \"0.19\"], \"textfont\": {\"size\": 20}, \"textposition\": \"inside\", \"type\": \"bar\", \"x\": [0.08108108108108109, 0.08108108108108109, 0.08108108108108109, 0.10810810810810811, 0.10810810810810811, 0.10810810810810811, 0.10810810810810811, 0.10810810810810811, 0.10810810810810811, 0.1891891891891892], \"xaxis\": \"x\", \"y\": [\"wolf\", \"balto\", \"fun\", \"family\", \"fievel\", \"save\", \"half\", \"get\", \"friends\", \"world\"], \"yaxis\": \"y\"}, {\"orientation\": \"h\", \"text\": [\"0.5\", \"0.5\", \"0.5\", \"0.5\", \"0.5\", \"0.5\", \"0.5\", \"0.5\", \"0.5\", \"1.0\"], \"textfont\": {\"size\": 20}, \"textposition\": \"inside\", \"type\": \"bar\", \"x\": [0.5, 0.5, 0.5, 0.5, 0.5, 0.5, 0.5, 0.5, 0.5, 1.0], \"xaxis\": \"x2\", \"y\": [\"college\", \"transfer\", \"handsome\", \"date\", \"kort\", \"friend\", \"best\", \"piques\", \"interest\", \"student\"], \"yaxis\": \"y2\"}, {\"orientation\": \"h\", \"text\": [\"0.05\", \"0.05\", \"0.06\", \"0.07\", \"0.07\", \"0.08\", \"0.08\", \"0.08\", \"0.08\", \"0.09\"], \"textfont\": {\"size\": 20}, \"textposition\": \"inside\", \"type\": \"bar\", \"x\": [0.045871559633027525, 0.05045871559633028, 0.05963302752293578, 0.06880733944954129, 0.07339449541284404, 0.0779816513761468, 0.0779816513761468, 0.08256880733944955, 0.08256880733944955, 0.0871559633027523], \"xaxis\": \"x3\", \"y\": [\"must\", \"war\", \"documentary\", \"world\", \"two\", \"new\", \"man\", \"family\", \"life\", \"young\"], \"yaxis\": \"y3\"}, {\"orientation\": \"h\", \"text\": [\"0.05\", \"0.06\", \"0.07\", \"0.07\", \"0.07\", \"0.08\", \"0.1\", \"0.1\", \"0.1\", \"0.11\"], \"textfont\": {\"size\": 20}, \"textposition\": \"inside\", \"type\": \"bar\", \"x\": [0.05434782608695652, 0.059782608695652176, 0.06521739130434782, 0.06521739130434782, 0.07065217391304347, 0.07608695652173914, 0.09782608695652174, 0.09782608695652174, 0.09782608695652174, 0.11413043478260869], \"xaxis\": \"x4\", \"y\": [\"city\", \"life\", \"old\", \"take\", \"finds\", \"help\", \"new\", \"young\", \"family\", \"world\"], \"yaxis\": \"y4\"}, {\"orientation\": \"h\", \"text\": [\"0.06\", \"0.06\", \"0.06\", \"0.07\", \"0.07\", \"0.08\", \"0.08\", \"0.09\", \"0.09\", \"0.09\"], \"textfont\": {\"size\": 20}, \"textposition\": \"inside\", \"type\": \"bar\", \"x\": [0.055944055944055944, 0.055944055944055944, 0.05944055944055944, 0.06643356643356643, 0.06993006993006994, 0.08041958041958042, 0.08391608391608392, 0.08741258741258741, 0.08741258741258741, 0.0944055944055944], \"xaxis\": \"x5\", \"y\": [\"girl\", \"high\", \"old\", \"school\", \"two\", \"must\", \"life\", \"young\", \"world\", \"new\"], \"yaxis\": \"y5\"}, {\"orientation\": \"h\", \"text\": [\"0.05\", \"0.05\", \"0.05\", \"0.06\", \"0.06\", \"0.06\", \"0.06\", \"0.08\", \"0.09\", \"0.1\"], \"textfont\": {\"size\": 20}, \"textposition\": \"inside\", \"type\": \"bar\", \"x\": [0.047244094488188976, 0.051181102362204724, 0.0531496062992126, 0.05511811023622047, 0.05708661417322835, 0.06299212598425197, 0.06299212598425197, 0.07874015748031496, 0.09251968503937008, 0.10236220472440945], \"xaxis\": \"x6\", \"y\": [\"family\", \"must\", \"find\", \"one\", \"man\", \"two\", \"woman\", \"young\", \"new\", \"life\"], \"yaxis\": \"y6\"}, {\"orientation\": \"h\", \"text\": [\"0.05\", \"0.06\", \"0.06\", \"0.07\", \"0.08\", \"0.08\", \"0.09\", \"0.09\", \"0.1\", \"0.1\"], \"textfont\": {\"size\": 20}, \"textposition\": \"inside\", \"type\": \"bar\", \"x\": [0.050647820965842166, 0.05830388692579505, 0.06478209658421673, 0.0706713780918728, 0.0800942285041225, 0.08244994110718493, 0.09010600706713781, 0.09187279151943463, 0.0989399293286219, 0.0989399293286219], \"xaxis\": \"x7\", \"y\": [\"one\", \"world\", \"two\", \"new\", \"woman\", \"family\", \"man\", \"love\", \"young\", \"life\"], \"yaxis\": \"y7\"}, {\"orientation\": \"h\", \"text\": [\"0.05\", \"0.05\", \"0.06\", \"0.07\", \"0.07\", \"0.07\", \"0.08\", \"0.09\", \"0.09\", \"0.09\"], \"textfont\": {\"size\": 20}, \"textposition\": \"inside\", \"type\": \"bar\", \"x\": [0.04697986577181208, 0.04697986577181208, 0.06040268456375839, 0.06711409395973154, 0.06711409395973154, 0.06711409395973154, 0.08053691275167785, 0.087248322147651, 0.09395973154362416, 0.09395973154362416], \"xaxis\": \"x8\", \"y\": [\"adventure\", \"documentary\", \"life\", \"series\", \"family\", \"school\", \"behind\", \"world\", \"new\", \"friends\"], \"yaxis\": \"y8\"}, {\"orientation\": \"h\", \"text\": [\"0.05\", \"0.05\", \"0.05\", \"0.06\", \"0.06\", \"0.06\", \"0.07\", \"0.07\", \"0.08\", \"0.1\"], \"textfont\": {\"size\": 20}, \"textposition\": \"inside\", \"type\": \"bar\", \"x\": [0.04785397138628515, 0.048840651208682785, 0.0493339911198816, 0.05525407005426739, 0.05772076961026147, 0.05920078934385792, 0.06610754810064134, 0.06808090774543661, 0.07893438579181056, 0.10409472126295018], \"xaxis\": \"x9\", \"y\": [\"stand\", \"series\", \"one\", \"woman\", \"two\", \"family\", \"new\", \"man\", \"young\", \"life\"], \"yaxis\": \"y9\"}, {\"orientation\": \"h\", \"text\": [\"0.05\", \"0.05\", \"0.07\", \"0.07\", \"0.07\", \"0.08\", \"0.08\", \"0.08\", \"0.09\", \"0.12\"], \"textfont\": {\"size\": 20}, \"textposition\": \"inside\", \"type\": \"bar\", \"x\": [0.04992867332382311, 0.04992867332382311, 0.06847360912981455, 0.06847360912981455, 0.07132667617689016, 0.07560627674750357, 0.07845934379457917, 0.08131241084165478, 0.09272467902995721, 0.11554921540656206], \"xaxis\": \"x10\", \"y\": [\"school\", \"two\", \"series\", \"documentary\", \"family\", \"young\", \"new\", \"love\", \"world\", \"life\"], \"yaxis\": \"y10\"}, {\"orientation\": \"h\", \"text\": [\"0.08\", \"0.08\", \"0.08\", \"0.09\", \"0.11\", \"0.15\", \"0.15\", \"0.16\", \"0.17\", \"0.29\"], \"textfont\": {\"size\": 20}, \"textposition\": \"inside\", \"type\": \"bar\", \"x\": [0.07692307692307693, 0.07692307692307693, 0.08391608391608392, 0.09090909090909091, 0.11188811188811189, 0.14685314685314685, 0.15384615384615385, 0.16083916083916083, 0.17482517482517482, 0.2937062937062937], \"xaxis\": \"x11\", \"y\": [\"series\", \"learn\", \"around\", \"life\", \"help\", \"adventures\", \"new\", \"world\", \"fun\", \"friends\"], \"yaxis\": \"y11\"}, {\"orientation\": \"h\", \"text\": [\"0.08\", \"0.08\", \"0.08\", \"0.09\", \"0.09\", \"0.1\", \"0.11\", \"0.11\", \"0.15\", \"0.17\"], \"textfont\": {\"size\": 20}, \"textposition\": \"inside\", \"type\": \"bar\", \"x\": [0.08284023668639054, 0.08284023668639054, 0.08284023668639054, 0.09467455621301775, 0.09467455621301775, 0.10059171597633136, 0.10650887573964497, 0.10650887573964497, 0.14792899408284024, 0.17159763313609466], \"xaxis\": \"x12\", \"y\": [\"school\", \"little\", \"young\", \"best\", \"evil\", \"series\", \"new\", \"save\", \"world\", \"friends\"], \"yaxis\": \"y12\"}, {\"orientation\": \"h\", \"text\": [\"0.11\", \"0.11\", \"0.11\", \"0.12\", \"0.13\", \"0.13\", \"0.16\", \"0.19\", \"0.19\", \"0.26\"], \"textfont\": {\"size\": 20}, \"textposition\": \"inside\", \"type\": \"bar\", \"x\": [0.10526315789473684, 0.10526315789473684, 0.10526315789473684, 0.11578947368421053, 0.12631578947368421, 0.12631578947368421, 0.15789473684210525, 0.18947368421052632, 0.18947368421052632, 0.2631578947368421], \"xaxis\": \"x13\", \"y\": [\"must\", \"powers\", \"team\", \"series\", \"earth\", \"save\", \"new\", \"evil\", \"power\", \"rangers\"], \"yaxis\": \"y13\"}, {\"orientation\": \"h\", \"text\": [\"0.14\", \"0.14\", \"0.14\", \"0.14\", \"0.14\", \"0.14\", \"0.14\", \"0.29\", \"0.29\", \"0.29\"], \"textfont\": {\"size\": 20}, \"textposition\": \"inside\", \"type\": \"bar\", \"x\": [0.14285714285714285, 0.14285714285714285, 0.14285714285714285, 0.14285714285714285, 0.14285714285714285, 0.14285714285714285, 0.14285714285714285, 0.2857142857142857, 0.2857142857142857, 0.2857142857142857], \"xaxis\": \"x14\", \"y\": [\"incident\", \"follows\", \"film\", \"action\", \"story\", \"based\", \"mumbai\", \"girl\", \"chuck\", \"true\"], \"yaxis\": \"y14\"}],                        {\"annotations\": [{\"font\": {\"size\": 16}, \"showarrow\": false, \"text\": \"G (37 titles)\", \"x\": 0.095, \"xanchor\": \"center\", \"xref\": \"paper\", \"y\": 1.0, \"yanchor\": \"bottom\", \"yref\": \"paper\"}, {\"font\": {\"size\": 16}, \"showarrow\": false, \"text\": \"NC-17 (2 titles)\", \"x\": 0.365, \"xanchor\": \"center\", \"xref\": \"paper\", \"y\": 1.0, \"yanchor\": \"bottom\", \"yref\": \"paper\"}, {\"font\": {\"size\": 16}, \"showarrow\": false, \"text\": \"NR (218 titles)\", \"x\": 0.635, \"xanchor\": \"center\", \"xref\": \"paper\", \"y\": 1.0, \"yanchor\": \"bottom\", \"yref\": \"paper\"}, {\"font\": {\"size\": 16}, \"showarrow\": false, \"text\": \"PG (184 titles)\", \"x\": 0.905, \"xanchor\": \"center\", \"xref\": \"paper\", \"y\": 1.0, \"yanchor\": \"bottom\", \"yref\": \"paper\"}, {\"font\": {\"size\": 16}, \"showarrow\": false, \"text\": \"PG-13 (286 titles)\", \"x\": 0.095, \"xanchor\": \"center\", \"xref\": \"paper\", \"y\": 0.71875, \"yanchor\": \"bottom\", \"yref\": \"paper\"}, {\"font\": {\"size\": 16}, \"showarrow\": false, \"text\": \"R (508 titles)\", \"x\": 0.365, \"xanchor\": \"center\", \"xref\": \"paper\", \"y\": 0.71875, \"yanchor\": \"bottom\", \"yref\": \"paper\"}, {\"font\": {\"size\": 16}, \"showarrow\": false, \"text\": \"TV-14 (1698 titles)\", \"x\": 0.635, \"xanchor\": \"center\", \"xref\": \"paper\", \"y\": 0.71875, \"yanchor\": \"bottom\", \"yref\": \"paper\"}, {\"font\": {\"size\": 16}, \"showarrow\": false, \"text\": \"TV-G (149 titles)\", \"x\": 0.905, \"xanchor\": \"center\", \"xref\": \"paper\", \"y\": 0.71875, \"yanchor\": \"bottom\", \"yref\": \"paper\"}, {\"font\": {\"size\": 16}, \"showarrow\": false, \"text\": \"TV-MA (2027 titles)\", \"x\": 0.095, \"xanchor\": \"center\", \"xref\": \"paper\", \"y\": 0.4375, \"yanchor\": \"bottom\", \"yref\": \"paper\"}, {\"font\": {\"size\": 16}, \"showarrow\": false, \"text\": \"TV-PG (701 titles)\", \"x\": 0.365, \"xanchor\": \"center\", \"xref\": \"paper\", \"y\": 0.4375, \"yanchor\": \"bottom\", \"yref\": \"paper\"}, {\"font\": {\"size\": 16}, \"showarrow\": false, \"text\": \"TV-Y (143 titles)\", \"x\": 0.635, \"xanchor\": \"center\", \"xref\": \"paper\", \"y\": 0.4375, \"yanchor\": \"bottom\", \"yref\": \"paper\"}, {\"font\": {\"size\": 16}, \"showarrow\": false, \"text\": \"TV-Y7 (169 titles)\", \"x\": 0.905, \"xanchor\": \"center\", \"xref\": \"paper\", \"y\": 0.4375, \"yanchor\": \"bottom\", \"yref\": \"paper\"}, {\"font\": {\"size\": 16}, \"showarrow\": false, \"text\": \"TV-Y7-FV (95 titles)\", \"x\": 0.095, \"xanchor\": \"center\", \"xref\": \"paper\", \"y\": 0.15625, \"yanchor\": \"bottom\", \"yref\": \"paper\"}, {\"font\": {\"size\": 16}, \"showarrow\": false, \"text\": \"UR (7 titles)\", \"x\": 0.365, \"xanchor\": \"center\", \"xref\": \"paper\", \"y\": 0.15625, \"yanchor\": \"bottom\", \"yref\": \"paper\"}], \"height\": 1500, \"showlegend\": false, \"template\": {\"data\": {\"bar\": [{\"error_x\": {\"color\": \"#2a3f5f\"}, \"error_y\": {\"color\": \"#2a3f5f\"}, \"marker\": {\"line\": {\"color\": \"#E5ECF6\", \"width\": 0.5}}, \"type\": \"bar\"}], \"barpolar\": [{\"marker\": {\"line\": {\"color\": \"#E5ECF6\", \"width\": 0.5}}, \"type\": \"barpolar\"}], \"carpet\": [{\"aaxis\": {\"endlinecolor\": \"#2a3f5f\", \"gridcolor\": \"white\", \"linecolor\": \"white\", \"minorgridcolor\": \"white\", \"startlinecolor\": \"#2a3f5f\"}, \"baxis\": {\"endlinecolor\": \"#2a3f5f\", \"gridcolor\": \"white\", \"linecolor\": \"white\", \"minorgridcolor\": \"white\", \"startlinecolor\": \"#2a3f5f\"}, \"type\": \"carpet\"}], \"choropleth\": [{\"colorbar\": {\"outlinewidth\": 0, \"ticks\": \"\"}, \"type\": \"choropleth\"}], \"contour\": [{\"colorbar\": {\"outlinewidth\": 0, \"ticks\": \"\"}, \"colorscale\": [[0.0, \"#0d0887\"], [0.1111111111111111, \"#46039f\"], [0.2222222222222222, \"#7201a8\"], [0.3333333333333333, \"#9c179e\"], [0.4444444444444444, \"#bd3786\"], [0.5555555555555556, \"#d8576b\"], [0.6666666666666666, \"#ed7953\"], [0.7777777777777778, \"#fb9f3a\"], [0.8888888888888888, \"#fdca26\"], [1.0, \"#f0f921\"]], \"type\": \"contour\"}], \"contourcarpet\": [{\"colorbar\": {\"outlinewidth\": 0, \"ticks\": \"\"}, \"type\": \"contourcarpet\"}], \"heatmap\": [{\"colorbar\": {\"outlinewidth\": 0, \"ticks\": \"\"}, \"colorscale\": [[0.0, \"#0d0887\"], [0.1111111111111111, \"#46039f\"], [0.2222222222222222, \"#7201a8\"], [0.3333333333333333, \"#9c179e\"], [0.4444444444444444, \"#bd3786\"], [0.5555555555555556, \"#d8576b\"], [0.6666666666666666, \"#ed7953\"], [0.7777777777777778, \"#fb9f3a\"], [0.8888888888888888, \"#fdca26\"], [1.0, \"#f0f921\"]], \"type\": \"heatmap\"}], \"heatmapgl\": [{\"colorbar\": {\"outlinewidth\": 0, \"ticks\": \"\"}, \"colorscale\": [[0.0, \"#0d0887\"], [0.1111111111111111, \"#46039f\"], [0.2222222222222222, \"#7201a8\"], [0.3333333333333333, \"#9c179e\"], [0.4444444444444444, \"#bd3786\"], [0.5555555555555556, \"#d8576b\"], [0.6666666666666666, \"#ed7953\"], [0.7777777777777778, \"#fb9f3a\"], [0.8888888888888888, \"#fdca26\"], [1.0, \"#f0f921\"]], \"type\": \"heatmapgl\"}], \"histogram\": [{\"marker\": {\"colorbar\": {\"outlinewidth\": 0, \"ticks\": \"\"}}, \"type\": \"histogram\"}], \"histogram2d\": [{\"colorbar\": {\"outlinewidth\": 0, \"ticks\": \"\"}, \"colorscale\": [[0.0, \"#0d0887\"], [0.1111111111111111, \"#46039f\"], [0.2222222222222222, \"#7201a8\"], [0.3333333333333333, \"#9c179e\"], [0.4444444444444444, \"#bd3786\"], [0.5555555555555556, \"#d8576b\"], [0.6666666666666666, \"#ed7953\"], [0.7777777777777778, \"#fb9f3a\"], [0.8888888888888888, \"#fdca26\"], [1.0, \"#f0f921\"]], \"type\": \"histogram2d\"}], \"histogram2dcontour\": [{\"colorbar\": {\"outlinewidth\": 0, \"ticks\": \"\"}, \"colorscale\": [[0.0, \"#0d0887\"], [0.1111111111111111, \"#46039f\"], [0.2222222222222222, \"#7201a8\"], [0.3333333333333333, \"#9c179e\"], [0.4444444444444444, \"#bd3786\"], [0.5555555555555556, \"#d8576b\"], [0.6666666666666666, \"#ed7953\"], [0.7777777777777778, \"#fb9f3a\"], [0.8888888888888888, \"#fdca26\"], [1.0, \"#f0f921\"]], \"type\": \"histogram2dcontour\"}], \"mesh3d\": [{\"colorbar\": {\"outlinewidth\": 0, \"ticks\": \"\"}, \"type\": \"mesh3d\"}], \"parcoords\": [{\"line\": {\"colorbar\": {\"outlinewidth\": 0, \"ticks\": \"\"}}, \"type\": \"parcoords\"}], \"pie\": [{\"automargin\": true, \"type\": \"pie\"}], \"scatter\": [{\"marker\": {\"colorbar\": {\"outlinewidth\": 0, \"ticks\": \"\"}}, \"type\": \"scatter\"}], \"scatter3d\": [{\"line\": {\"colorbar\": {\"outlinewidth\": 0, \"ticks\": \"\"}}, \"marker\": {\"colorbar\": {\"outlinewidth\": 0, \"ticks\": \"\"}}, \"type\": \"scatter3d\"}], \"scattercarpet\": [{\"marker\": {\"colorbar\": {\"outlinewidth\": 0, \"ticks\": \"\"}}, \"type\": \"scattercarpet\"}], \"scattergeo\": [{\"marker\": {\"colorbar\": {\"outlinewidth\": 0, \"ticks\": \"\"}}, \"type\": \"scattergeo\"}], \"scattergl\": [{\"marker\": {\"colorbar\": {\"outlinewidth\": 0, \"ticks\": \"\"}}, \"type\": \"scattergl\"}], \"scattermapbox\": [{\"marker\": {\"colorbar\": {\"outlinewidth\": 0, \"ticks\": \"\"}}, \"type\": \"scattermapbox\"}], \"scatterpolar\": [{\"marker\": {\"colorbar\": {\"outlinewidth\": 0, \"ticks\": \"\"}}, \"type\": \"scatterpolar\"}], \"scatterpolargl\": [{\"marker\": {\"colorbar\": {\"outlinewidth\": 0, \"ticks\": \"\"}}, \"type\": \"scatterpolargl\"}], \"scatterternary\": [{\"marker\": {\"colorbar\": {\"outlinewidth\": 0, \"ticks\": \"\"}}, \"type\": \"scatterternary\"}], \"surface\": [{\"colorbar\": {\"outlinewidth\": 0, \"ticks\": \"\"}, \"colorscale\": [[0.0, \"#0d0887\"], [0.1111111111111111, \"#46039f\"], [0.2222222222222222, \"#7201a8\"], [0.3333333333333333, \"#9c179e\"], [0.4444444444444444, \"#bd3786\"], [0.5555555555555556, \"#d8576b\"], [0.6666666666666666, \"#ed7953\"], [0.7777777777777778, \"#fb9f3a\"], [0.8888888888888888, \"#fdca26\"], [1.0, \"#f0f921\"]], \"type\": \"surface\"}], \"table\": [{\"cells\": {\"fill\": {\"color\": \"#EBF0F8\"}, \"line\": {\"color\": \"white\"}}, \"header\": {\"fill\": {\"color\": \"#C8D4E3\"}, \"line\": {\"color\": \"white\"}}, \"type\": \"table\"}]}, \"layout\": {\"annotationdefaults\": {\"arrowcolor\": \"#2a3f5f\", \"arrowhead\": 0, \"arrowwidth\": 1}, \"autotypenumbers\": \"strict\", \"coloraxis\": {\"colorbar\": {\"outlinewidth\": 0, \"ticks\": \"\"}}, \"colorscale\": {\"diverging\": [[0, \"#8e0152\"], [0.1, \"#c51b7d\"], [0.2, \"#de77ae\"], [0.3, \"#f1b6da\"], [0.4, \"#fde0ef\"], [0.5, \"#f7f7f7\"], [0.6, \"#e6f5d0\"], [0.7, \"#b8e186\"], [0.8, \"#7fbc41\"], [0.9, \"#4d9221\"], [1, \"#276419\"]], \"sequential\": [[0.0, \"#0d0887\"], [0.1111111111111111, \"#46039f\"], [0.2222222222222222, \"#7201a8\"], [0.3333333333333333, \"#9c179e\"], [0.4444444444444444, \"#bd3786\"], [0.5555555555555556, \"#d8576b\"], [0.6666666666666666, \"#ed7953\"], [0.7777777777777778, \"#fb9f3a\"], [0.8888888888888888, \"#fdca26\"], [1.0, \"#f0f921\"]], \"sequentialminus\": [[0.0, \"#0d0887\"], [0.1111111111111111, \"#46039f\"], [0.2222222222222222, \"#7201a8\"], [0.3333333333333333, \"#9c179e\"], [0.4444444444444444, \"#bd3786\"], [0.5555555555555556, \"#d8576b\"], [0.6666666666666666, \"#ed7953\"], [0.7777777777777778, \"#fb9f3a\"], [0.8888888888888888, \"#fdca26\"], [1.0, \"#f0f921\"]]}, \"colorway\": [\"#636efa\", \"#EF553B\", \"#00cc96\", \"#ab63fa\", \"#FFA15A\", \"#19d3f3\", \"#FF6692\", \"#B6E880\", \"#FF97FF\", \"#FECB52\"], \"font\": {\"color\": \"#2a3f5f\"}, \"geo\": {\"bgcolor\": \"white\", \"lakecolor\": \"white\", \"landcolor\": \"#E5ECF6\", \"showlakes\": true, \"showland\": true, \"subunitcolor\": \"white\"}, \"hoverlabel\": {\"align\": \"left\"}, \"hovermode\": \"closest\", \"mapbox\": {\"style\": \"light\"}, \"paper_bgcolor\": \"white\", \"plot_bgcolor\": \"#E5ECF6\", \"polar\": {\"angularaxis\": {\"gridcolor\": \"white\", \"linecolor\": \"white\", \"ticks\": \"\"}, \"bgcolor\": \"#E5ECF6\", \"radialaxis\": {\"gridcolor\": \"white\", \"linecolor\": \"white\", \"ticks\": \"\"}}, \"scene\": {\"xaxis\": {\"backgroundcolor\": \"#E5ECF6\", \"gridcolor\": \"white\", \"gridwidth\": 2, \"linecolor\": \"white\", \"showbackground\": true, \"ticks\": \"\", \"zerolinecolor\": \"white\"}, \"yaxis\": {\"backgroundcolor\": \"#E5ECF6\", \"gridcolor\": \"white\", \"gridwidth\": 2, \"linecolor\": \"white\", \"showbackground\": true, \"ticks\": \"\", \"zerolinecolor\": \"white\"}, \"zaxis\": {\"backgroundcolor\": \"#E5ECF6\", \"gridcolor\": \"white\", \"gridwidth\": 2, \"linecolor\": \"white\", \"showbackground\": true, \"ticks\": \"\", \"zerolinecolor\": \"white\"}}, \"shapedefaults\": {\"line\": {\"color\": \"#2a3f5f\"}}, \"ternary\": {\"aaxis\": {\"gridcolor\": \"white\", \"linecolor\": \"white\", \"ticks\": \"\"}, \"baxis\": {\"gridcolor\": \"white\", \"linecolor\": \"white\", \"ticks\": \"\"}, \"bgcolor\": \"#E5ECF6\", \"caxis\": {\"gridcolor\": \"white\", \"linecolor\": \"white\", \"ticks\": \"\"}}, \"title\": {\"x\": 0.05}, \"xaxis\": {\"automargin\": true, \"gridcolor\": \"white\", \"linecolor\": \"white\", \"ticks\": \"\", \"title\": {\"standoff\": 15}, \"zerolinecolor\": \"white\", \"zerolinewidth\": 2}, \"yaxis\": {\"automargin\": true, \"gridcolor\": \"white\", \"linecolor\": \"white\", \"ticks\": \"\", \"title\": {\"standoff\": 15}, \"zerolinecolor\": \"white\", \"zerolinewidth\": 2}}}, \"width\": 1200, \"xaxis\": {\"anchor\": \"y\", \"domain\": [0.0, 0.19]}, \"xaxis10\": {\"anchor\": \"y10\", \"domain\": [0.27, 0.46]}, \"xaxis11\": {\"anchor\": \"y11\", \"domain\": [0.54, 0.73]}, \"xaxis12\": {\"anchor\": \"y12\", \"domain\": [0.81, 1.0]}, \"xaxis13\": {\"anchor\": \"y13\", \"domain\": [0.0, 0.19]}, \"xaxis14\": {\"anchor\": \"y14\", \"domain\": [0.27, 0.46]}, \"xaxis15\": {\"anchor\": \"y15\", \"domain\": [0.54, 0.73]}, \"xaxis16\": {\"anchor\": \"y16\", \"domain\": [0.81, 1.0]}, \"xaxis2\": {\"anchor\": \"y2\", \"domain\": [0.27, 0.46]}, \"xaxis3\": {\"anchor\": \"y3\", \"domain\": [0.54, 0.73]}, \"xaxis4\": {\"anchor\": \"y4\", \"domain\": [0.81, 1.0]}, \"xaxis5\": {\"anchor\": \"y5\", \"domain\": [0.0, 0.19]}, \"xaxis6\": {\"anchor\": \"y6\", \"domain\": [0.27, 0.46]}, \"xaxis7\": {\"anchor\": \"y7\", \"domain\": [0.54, 0.73]}, \"xaxis8\": {\"anchor\": \"y8\", \"domain\": [0.81, 1.0]}, \"xaxis9\": {\"anchor\": \"y9\", \"domain\": [0.0, 0.19]}, \"yaxis\": {\"anchor\": \"x\", \"domain\": [0.84375, 1.0]}, \"yaxis10\": {\"anchor\": \"x10\", \"domain\": [0.28125, 0.4375]}, \"yaxis11\": {\"anchor\": \"x11\", \"domain\": [0.28125, 0.4375]}, \"yaxis12\": {\"anchor\": \"x12\", \"domain\": [0.28125, 0.4375]}, \"yaxis13\": {\"anchor\": \"x13\", \"domain\": [0.0, 0.15625]}, \"yaxis14\": {\"anchor\": \"x14\", \"domain\": [0.0, 0.15625]}, \"yaxis15\": {\"anchor\": \"x15\", \"domain\": [0.0, 0.15625]}, \"yaxis16\": {\"anchor\": \"x16\", \"domain\": [0.0, 0.15625]}, \"yaxis2\": {\"anchor\": \"x2\", \"domain\": [0.84375, 1.0]}, \"yaxis3\": {\"anchor\": \"x3\", \"domain\": [0.84375, 1.0]}, \"yaxis4\": {\"anchor\": \"x4\", \"domain\": [0.84375, 1.0]}, \"yaxis5\": {\"anchor\": \"x5\", \"domain\": [0.5625, 0.71875]}, \"yaxis6\": {\"anchor\": \"x6\", \"domain\": [0.5625, 0.71875]}, \"yaxis7\": {\"anchor\": \"x7\", \"domain\": [0.5625, 0.71875]}, \"yaxis8\": {\"anchor\": \"x8\", \"domain\": [0.5625, 0.71875]}, \"yaxis9\": {\"anchor\": \"x9\", \"domain\": [0.28125, 0.4375]}},                        {\"responsive\": true}                    ).then(function(){\n",
       "                            \n",
       "var gd = document.getElementById('f6c7dc0b-740f-4019-a1c6-fb99a7873051');\n",
       "var x = new MutationObserver(function (mutations, observer) {{\n",
       "        var display = window.getComputedStyle(gd).display;\n",
       "        if (!display || display === 'none') {{\n",
       "            console.log([gd, 'removed!']);\n",
       "            Plotly.purge(gd);\n",
       "            observer.disconnect();\n",
       "        }}\n",
       "}});\n",
       "\n",
       "// Listen for the removal of the full notebook cells\n",
       "var notebookContainer = gd.closest('#notebook-container');\n",
       "if (notebookContainer) {{\n",
       "    x.observe(notebookContainer, {childList: true});\n",
       "}}\n",
       "\n",
       "// Listen for the clearing of the current output cell\n",
       "var outputEl = gd.closest('.output');\n",
       "if (outputEl) {{\n",
       "    x.observe(outputEl, {childList: true});\n",
       "}}\n",
       "\n",
       "                        })                };                });            </script>        </div>"
      ]
     },
     "metadata": {},
     "output_type": "display_data"
    }
   ],
   "source": [
    "# Plotting the top 10 words for each rating\n",
    "fig = make_subplots(rows=4, \n",
    "                    cols=4, \n",
    "                    subplot_titles= [key + ' (' + str(df['rating'].value_counts()[key]) + ' titles)' for key in d_ratings.keys()], \n",
    "                    horizontal_spacing=0.08)\n",
    "\n",
    "counter=0\n",
    "for r in range(1,5):\n",
    "    for c in range(1,5):\n",
    "        if r==4 and c>2:\n",
    "            break\n",
    "        else:\n",
    "            fig.add_trace(go.Bar(y=list(d_ratings.items())[counter][1].iloc[-10:]['word'],\n",
    "                                 x=list(d_ratings.items())[counter][1].iloc[-10:]['count'],\n",
    "                                 text=[round(num, 2) for num in list(d_ratings.items())[counter][1].iloc[-10:]['count']],\n",
    "                                 orientation='h'),\n",
    "                            row = r,\n",
    "                            col = c, )\n",
    "            counter += 1\n",
    "    \n",
    "fig.update_layout(height=1500, width=1200, showlegend=False)\n",
    "fig.update_traces(textposition='inside', textfont_size=20)\n",
    "fig.show()"
   ]
  },
  {
   "cell_type": "markdown",
   "metadata": {
    "papermill": {
     "duration": 0.022587,
     "end_time": "2021-01-03T10:53:17.000742",
     "exception": false,
     "start_time": "2021-01-03T10:53:16.978155",
     "status": "completed"
    },
    "tags": []
   },
   "source": [
    "### A few takeaways:\n",
    "1. For TV shows, the word 'love' is more common in the TV-PG and TV-14 ratings, while it's not even in the top 10 in the TV-MA (Mature Audience) category.\n",
    "2. In TV-Y shows which are aimed at very young audiences, it's all about 'friends', 'fun' and 'adventures'.\n",
    "3. In the TV-Y7 category about 10% of the shows have the word evil in their description.\n",
    "4. For films, the R-rated category is the only one with the word 'woman' in its most common words."
   ]
  },
  {
   "cell_type": "markdown",
   "metadata": {
    "papermill": {
     "duration": 0.022344,
     "end_time": "2021-01-03T10:53:17.045839",
     "exception": false,
     "start_time": "2021-01-03T10:53:17.023495",
     "status": "completed"
    },
    "tags": []
   },
   "source": [
    "## What about different countries?"
   ]
  },
  {
   "cell_type": "code",
   "execution_count": 16,
   "metadata": {
    "execution": {
     "iopub.execute_input": "2021-01-03T10:53:17.100319Z",
     "iopub.status.busy": "2021-01-03T10:53:17.099685Z",
     "iopub.status.idle": "2021-01-03T10:53:17.102573Z",
     "shell.execute_reply": "2021-01-03T10:53:17.103043Z"
    },
    "papermill": {
     "duration": 0.034789,
     "end_time": "2021-01-03T10:53:17.103226",
     "exception": false,
     "start_time": "2021-01-03T10:53:17.068437",
     "status": "completed"
    },
    "tags": []
   },
   "outputs": [
    {
     "data": {
      "text/plain": [
       "United States     2032\n",
       "India              777\n",
       "United Kingdom     348\n",
       "Japan              176\n",
       "Canada             141\n",
       "South Korea        136\n",
       "Spain              117\n",
       "France              90\n",
       "Mexico              83\n",
       "Turkey              79\n",
       "Name: country, dtype: int64"
      ]
     },
     "execution_count": 16,
     "metadata": {},
     "output_type": "execute_result"
    }
   ],
   "source": [
    "df['country'].value_counts()[:10]"
   ]
  },
  {
   "cell_type": "markdown",
   "metadata": {
    "papermill": {
     "duration": 0.022745,
     "end_time": "2021-01-03T10:53:17.149835",
     "exception": false,
     "start_time": "2021-01-03T10:53:17.127090",
     "status": "completed"
    },
    "tags": []
   },
   "source": [
    "### We'll only use the top 6 countries."
   ]
  },
  {
   "cell_type": "code",
   "execution_count": 17,
   "metadata": {
    "execution": {
     "iopub.execute_input": "2021-01-03T10:53:17.199757Z",
     "iopub.status.busy": "2021-01-03T10:53:17.199131Z",
     "iopub.status.idle": "2021-01-03T10:53:17.207176Z",
     "shell.execute_reply": "2021-01-03T10:53:17.207715Z"
    },
    "papermill": {
     "duration": 0.034263,
     "end_time": "2021-01-03T10:53:17.207848",
     "exception": false,
     "start_time": "2021-01-03T10:53:17.173585",
     "status": "completed"
    },
    "tags": []
   },
   "outputs": [
    {
     "data": {
      "text/plain": [
       "['United States', 'India', 'United Kingdom', 'Japan', 'Canada', 'South Korea']"
      ]
     },
     "execution_count": 17,
     "metadata": {},
     "output_type": "execute_result"
    }
   ],
   "source": [
    "countries = list(df['country'].value_counts()[:6].index)\n",
    "countries"
   ]
  },
  {
   "cell_type": "code",
   "execution_count": 18,
   "metadata": {
    "execution": {
     "iopub.execute_input": "2021-01-03T10:53:17.258805Z",
     "iopub.status.busy": "2021-01-03T10:53:17.258183Z",
     "iopub.status.idle": "2021-01-03T10:53:18.641144Z",
     "shell.execute_reply": "2021-01-03T10:53:18.641685Z"
    },
    "papermill": {
     "duration": 1.41005,
     "end_time": "2021-01-03T10:53:18.641820",
     "exception": false,
     "start_time": "2021-01-03T10:53:17.231770",
     "status": "completed"
    },
    "tags": []
   },
   "outputs": [],
   "source": [
    "d_countries = {}\n",
    "for country in countries:\n",
    "    l = []\n",
    "    for subl in df[df['country'] == country]['desc_lists']:\n",
    "        l.extend(subl)\n",
    "    dff = pd.DataFrame(Counter(l), index=[0]).T/df['country'].value_counts()[country]\n",
    "    d_countries[country] = dff.reset_index().rename(columns={'index':'word', 0:'count'}).sort_values(by='count', ascending=True)"
   ]
  },
  {
   "cell_type": "code",
   "execution_count": 19,
   "metadata": {
    "execution": {
     "iopub.execute_input": "2021-01-03T10:53:18.704632Z",
     "iopub.status.busy": "2021-01-03T10:53:18.703958Z",
     "iopub.status.idle": "2021-01-03T10:53:18.713297Z",
     "shell.execute_reply": "2021-01-03T10:53:18.714063Z"
    },
    "papermill": {
     "duration": 0.048783,
     "end_time": "2021-01-03T10:53:18.714286",
     "exception": false,
     "start_time": "2021-01-03T10:53:18.665503",
     "status": "completed"
    },
    "tags": []
   },
   "outputs": [
    {
     "name": "stdout",
     "output_type": "stream",
     "text": [
      "United States\n",
      "            word     count\n",
      "252       series  0.057579\n",
      "55   documentary  0.059547\n",
      "160        world  0.066929\n",
      "162         life  0.100394\n",
      "18           new  0.104331\n",
      "\n",
      "\n",
      "India\n",
      "       word     count\n",
      "113  family  0.087516\n",
      "130    love  0.093951\n",
      "109   woman  0.106821\n",
      "50      man  0.146718\n",
      "49    young  0.151866\n",
      "\n",
      "\n",
      "United Kingdom\n",
      "            word     count\n",
      "53        family  0.074713\n",
      "467  documentary  0.074713\n",
      "564        world  0.086207\n",
      "114         life  0.094828\n",
      "440       series  0.106322\n",
      "\n",
      "\n",
      "Japan\n",
      "           word     count\n",
      "19   mysterious  0.085227\n",
      "94        world  0.113636\n",
      "419      school  0.125000\n",
      "30         high  0.136364\n",
      "91        young  0.153409\n",
      "\n",
      "\n",
      "Canada\n",
      "       word     count\n",
      "21   series  0.056738\n",
      "628  school  0.070922\n",
      "191     new  0.070922\n",
      "160     two  0.092199\n",
      "228   world  0.092199\n",
      "\n",
      "\n",
      "South Korea\n",
      "      word     count\n",
      "37    love  0.095588\n",
      "127    two  0.095588\n",
      "39    life  0.110294\n",
      "46   korea  0.125000\n",
      "36     new  0.147059\n",
      "\n",
      "\n"
     ]
    }
   ],
   "source": [
    "for key, val in d_countries.items():\n",
    "    print(key)\n",
    "    print(val.iloc[-5:])\n",
    "    print('\\n')"
   ]
  },
  {
   "cell_type": "code",
   "execution_count": 20,
   "metadata": {
    "execution": {
     "iopub.execute_input": "2021-01-03T10:53:18.789292Z",
     "iopub.status.busy": "2021-01-03T10:53:18.786569Z",
     "iopub.status.idle": "2021-01-03T10:53:18.896362Z",
     "shell.execute_reply": "2021-01-03T10:53:18.895831Z"
    },
    "papermill": {
     "duration": 0.154763,
     "end_time": "2021-01-03T10:53:18.896487",
     "exception": false,
     "start_time": "2021-01-03T10:53:18.741724",
     "status": "completed"
    },
    "tags": []
   },
   "outputs": [
    {
     "data": {
      "text/html": [
       "<div>                            <div id=\"320294bc-43df-4e35-9d4d-9e099132ac74\" class=\"plotly-graph-div\" style=\"height:1000px; width:1000px;\"></div>            <script type=\"text/javascript\">                require([\"plotly\"], function(Plotly) {                    window.PLOTLYENV=window.PLOTLYENV || {};                                    if (document.getElementById(\"320294bc-43df-4e35-9d4d-9e099132ac74\")) {                    Plotly.newPlot(                        \"320294bc-43df-4e35-9d4d-9e099132ac74\",                        [{\"orientation\": \"h\", \"text\": [\"0.05\", \"0.05\", \"0.05\", \"0.05\", \"0.06\", \"0.06\", \"0.06\", \"0.07\", \"0.1\", \"0.1\"], \"textfont\": {\"size\": 24}, \"textposition\": \"inside\", \"type\": \"bar\", \"x\": [0.04576771653543307, 0.04675196850393701, 0.04970472440944882, 0.054625984251968504, 0.05610236220472441, 0.05757874015748032, 0.05954724409448819, 0.06692913385826772, 0.10039370078740158, 0.10433070866141732], \"xaxis\": \"x\", \"y\": [\"school\", \"young\", \"comedy\", \"family\", \"two\", \"series\", \"documentary\", \"world\", \"life\", \"new\"], \"yaxis\": \"y\"}, {\"orientation\": \"h\", \"text\": [\"0.07\", \"0.07\", \"0.07\", \"0.08\", \"0.08\", \"0.09\", \"0.09\", \"0.11\", \"0.15\", \"0.15\"], \"textfont\": {\"size\": 24}, \"textposition\": \"inside\", \"type\": \"bar\", \"x\": [0.0682110682110682, 0.0682110682110682, 0.07207207207207207, 0.07593307593307594, 0.08494208494208494, 0.08751608751608751, 0.09395109395109395, 0.10682110682110682, 0.14671814671814673, 0.15186615186615188], \"xaxis\": \"x2\", \"y\": [\"two\", \"mumbai\", \"india\", \"father\", \"life\", \"family\", \"love\", \"woman\", \"man\", \"young\"], \"yaxis\": \"y2\"}, {\"orientation\": \"h\", \"text\": [\"0.05\", \"0.05\", \"0.05\", \"0.05\", \"0.07\", \"0.07\", \"0.07\", \"0.09\", \"0.09\", \"0.11\"], \"textfont\": {\"size\": 24}, \"textposition\": \"inside\", \"type\": \"bar\", \"x\": [0.04597701149425287, 0.04597701149425287, 0.04597701149425287, 0.05172413793103448, 0.06896551724137931, 0.07471264367816093, 0.07471264367816093, 0.08620689655172414, 0.09482758620689655, 0.10632183908045977], \"xaxis\": \"x3\", \"y\": [\"man\", \"new\", \"history\", \"british\", \"london\", \"family\", \"documentary\", \"world\", \"life\", \"series\"], \"yaxis\": \"y3\"}, {\"orientation\": \"h\", \"text\": [\"0.07\", \"0.07\", \"0.07\", \"0.07\", \"0.08\", \"0.09\", \"0.11\", \"0.12\", \"0.14\", \"0.15\"], \"textfont\": {\"size\": 24}, \"textposition\": \"inside\", \"type\": \"bar\", \"x\": [0.06818181818181818, 0.06818181818181818, 0.06818181818181818, 0.06818181818181818, 0.07954545454545454, 0.08522727272727272, 0.11363636363636363, 0.125, 0.13636363636363635, 0.1534090909090909], \"xaxis\": \"x4\", \"y\": [\"life\", \"group\", \"must\", \"schooler\", \"one\", \"mysterious\", \"world\", \"school\", \"high\", \"young\"], \"yaxis\": \"y4\"}, {\"orientation\": \"h\", \"text\": [\"0.05\", \"0.05\", \"0.06\", \"0.06\", \"0.06\", \"0.06\", \"0.07\", \"0.07\", \"0.09\", \"0.09\"], \"textfont\": {\"size\": 24}, \"textposition\": \"inside\", \"type\": \"bar\", \"x\": [0.04964539007092199, 0.04964539007092199, 0.05673758865248227, 0.05673758865248227, 0.05673758865248227, 0.05673758865248227, 0.07092198581560284, 0.07092198581560284, 0.09219858156028368, 0.09219858156028368], \"xaxis\": \"x5\", \"y\": [\"park\", \"friends\", \"old\", \"back\", \"boys\", \"series\", \"school\", \"new\", \"two\", \"world\"], \"yaxis\": \"y5\"}, {\"orientation\": \"h\", \"text\": [\"0.07\", \"0.07\", \"0.08\", \"0.08\", \"0.08\", \"0.1\", \"0.1\", \"0.11\", \"0.12\", \"0.15\"], \"textfont\": {\"size\": 24}, \"textposition\": \"inside\", \"type\": \"bar\", \"x\": [0.07352941176470588, 0.07352941176470588, 0.08088235294117647, 0.08088235294117647, 0.08088235294117647, 0.09558823529411764, 0.09558823529411764, 0.11029411764705882, 0.125, 0.14705882352941177], \"xaxis\": \"x6\", \"y\": [\"years\", \"detective\", \"korean\", \"man\", \"woman\", \"love\", \"two\", \"life\", \"korea\", \"new\"], \"yaxis\": \"y6\"}],                        {\"annotations\": [{\"font\": {\"size\": 16}, \"showarrow\": false, \"text\": \"United States(2032 titles)\", \"x\": 0.225, \"xanchor\": \"center\", \"xref\": \"paper\", \"y\": 1.0, \"yanchor\": \"bottom\", \"yref\": \"paper\"}, {\"font\": {\"size\": 16}, \"showarrow\": false, \"text\": \"India(777 titles)\", \"x\": 0.775, \"xanchor\": \"center\", \"xref\": \"paper\", \"y\": 1.0, \"yanchor\": \"bottom\", \"yref\": \"paper\"}, {\"font\": {\"size\": 16}, \"showarrow\": false, \"text\": \"United Kingdom(348 titles)\", \"x\": 0.225, \"xanchor\": \"center\", \"xref\": \"paper\", \"y\": 0.6333333333333333, \"yanchor\": \"bottom\", \"yref\": \"paper\"}, {\"font\": {\"size\": 16}, \"showarrow\": false, \"text\": \"Japan(176 titles)\", \"x\": 0.775, \"xanchor\": \"center\", \"xref\": \"paper\", \"y\": 0.6333333333333333, \"yanchor\": \"bottom\", \"yref\": \"paper\"}, {\"font\": {\"size\": 16}, \"showarrow\": false, \"text\": \"Canada(141 titles)\", \"x\": 0.225, \"xanchor\": \"center\", \"xref\": \"paper\", \"y\": 0.26666666666666666, \"yanchor\": \"bottom\", \"yref\": \"paper\"}, {\"font\": {\"size\": 16}, \"showarrow\": false, \"text\": \"South Korea(136 titles)\", \"x\": 0.775, \"xanchor\": \"center\", \"xref\": \"paper\", \"y\": 0.26666666666666666, \"yanchor\": \"bottom\", \"yref\": \"paper\"}], \"height\": 1000, \"showlegend\": false, \"template\": {\"data\": {\"bar\": [{\"error_x\": {\"color\": \"#2a3f5f\"}, \"error_y\": {\"color\": \"#2a3f5f\"}, \"marker\": {\"line\": {\"color\": \"#E5ECF6\", \"width\": 0.5}}, \"type\": \"bar\"}], \"barpolar\": [{\"marker\": {\"line\": {\"color\": \"#E5ECF6\", \"width\": 0.5}}, \"type\": \"barpolar\"}], \"carpet\": [{\"aaxis\": {\"endlinecolor\": \"#2a3f5f\", \"gridcolor\": \"white\", \"linecolor\": \"white\", \"minorgridcolor\": \"white\", \"startlinecolor\": \"#2a3f5f\"}, \"baxis\": {\"endlinecolor\": \"#2a3f5f\", \"gridcolor\": \"white\", \"linecolor\": \"white\", \"minorgridcolor\": \"white\", \"startlinecolor\": \"#2a3f5f\"}, \"type\": \"carpet\"}], \"choropleth\": [{\"colorbar\": {\"outlinewidth\": 0, \"ticks\": \"\"}, \"type\": \"choropleth\"}], \"contour\": [{\"colorbar\": {\"outlinewidth\": 0, \"ticks\": \"\"}, \"colorscale\": [[0.0, \"#0d0887\"], [0.1111111111111111, \"#46039f\"], [0.2222222222222222, \"#7201a8\"], [0.3333333333333333, \"#9c179e\"], [0.4444444444444444, \"#bd3786\"], [0.5555555555555556, \"#d8576b\"], [0.6666666666666666, \"#ed7953\"], [0.7777777777777778, \"#fb9f3a\"], [0.8888888888888888, \"#fdca26\"], [1.0, \"#f0f921\"]], \"type\": \"contour\"}], \"contourcarpet\": [{\"colorbar\": {\"outlinewidth\": 0, \"ticks\": \"\"}, \"type\": \"contourcarpet\"}], \"heatmap\": [{\"colorbar\": {\"outlinewidth\": 0, \"ticks\": \"\"}, \"colorscale\": [[0.0, \"#0d0887\"], [0.1111111111111111, \"#46039f\"], [0.2222222222222222, \"#7201a8\"], [0.3333333333333333, \"#9c179e\"], [0.4444444444444444, \"#bd3786\"], [0.5555555555555556, \"#d8576b\"], [0.6666666666666666, \"#ed7953\"], [0.7777777777777778, \"#fb9f3a\"], [0.8888888888888888, \"#fdca26\"], [1.0, \"#f0f921\"]], \"type\": \"heatmap\"}], \"heatmapgl\": [{\"colorbar\": {\"outlinewidth\": 0, \"ticks\": \"\"}, \"colorscale\": [[0.0, \"#0d0887\"], [0.1111111111111111, \"#46039f\"], [0.2222222222222222, \"#7201a8\"], [0.3333333333333333, \"#9c179e\"], [0.4444444444444444, \"#bd3786\"], [0.5555555555555556, \"#d8576b\"], [0.6666666666666666, \"#ed7953\"], [0.7777777777777778, \"#fb9f3a\"], [0.8888888888888888, \"#fdca26\"], [1.0, \"#f0f921\"]], \"type\": \"heatmapgl\"}], \"histogram\": [{\"marker\": {\"colorbar\": {\"outlinewidth\": 0, \"ticks\": \"\"}}, \"type\": \"histogram\"}], \"histogram2d\": [{\"colorbar\": {\"outlinewidth\": 0, \"ticks\": \"\"}, \"colorscale\": [[0.0, \"#0d0887\"], [0.1111111111111111, \"#46039f\"], [0.2222222222222222, \"#7201a8\"], [0.3333333333333333, \"#9c179e\"], [0.4444444444444444, \"#bd3786\"], [0.5555555555555556, \"#d8576b\"], [0.6666666666666666, \"#ed7953\"], [0.7777777777777778, \"#fb9f3a\"], [0.8888888888888888, \"#fdca26\"], [1.0, \"#f0f921\"]], \"type\": \"histogram2d\"}], \"histogram2dcontour\": [{\"colorbar\": {\"outlinewidth\": 0, \"ticks\": \"\"}, \"colorscale\": [[0.0, \"#0d0887\"], [0.1111111111111111, \"#46039f\"], [0.2222222222222222, \"#7201a8\"], [0.3333333333333333, \"#9c179e\"], [0.4444444444444444, \"#bd3786\"], [0.5555555555555556, \"#d8576b\"], [0.6666666666666666, \"#ed7953\"], [0.7777777777777778, \"#fb9f3a\"], [0.8888888888888888, \"#fdca26\"], [1.0, \"#f0f921\"]], \"type\": \"histogram2dcontour\"}], \"mesh3d\": [{\"colorbar\": {\"outlinewidth\": 0, \"ticks\": \"\"}, \"type\": \"mesh3d\"}], \"parcoords\": [{\"line\": {\"colorbar\": {\"outlinewidth\": 0, \"ticks\": \"\"}}, \"type\": \"parcoords\"}], \"pie\": [{\"automargin\": true, \"type\": \"pie\"}], \"scatter\": [{\"marker\": {\"colorbar\": {\"outlinewidth\": 0, \"ticks\": \"\"}}, \"type\": \"scatter\"}], \"scatter3d\": [{\"line\": {\"colorbar\": {\"outlinewidth\": 0, \"ticks\": \"\"}}, \"marker\": {\"colorbar\": {\"outlinewidth\": 0, \"ticks\": \"\"}}, \"type\": \"scatter3d\"}], \"scattercarpet\": [{\"marker\": {\"colorbar\": {\"outlinewidth\": 0, \"ticks\": \"\"}}, \"type\": \"scattercarpet\"}], \"scattergeo\": [{\"marker\": {\"colorbar\": {\"outlinewidth\": 0, \"ticks\": \"\"}}, \"type\": \"scattergeo\"}], \"scattergl\": [{\"marker\": {\"colorbar\": {\"outlinewidth\": 0, \"ticks\": \"\"}}, \"type\": \"scattergl\"}], \"scattermapbox\": [{\"marker\": {\"colorbar\": {\"outlinewidth\": 0, \"ticks\": \"\"}}, \"type\": \"scattermapbox\"}], \"scatterpolar\": [{\"marker\": {\"colorbar\": {\"outlinewidth\": 0, \"ticks\": \"\"}}, \"type\": \"scatterpolar\"}], \"scatterpolargl\": [{\"marker\": {\"colorbar\": {\"outlinewidth\": 0, \"ticks\": \"\"}}, \"type\": \"scatterpolargl\"}], \"scatterternary\": [{\"marker\": {\"colorbar\": {\"outlinewidth\": 0, \"ticks\": \"\"}}, \"type\": \"scatterternary\"}], \"surface\": [{\"colorbar\": {\"outlinewidth\": 0, \"ticks\": \"\"}, \"colorscale\": [[0.0, \"#0d0887\"], [0.1111111111111111, \"#46039f\"], [0.2222222222222222, \"#7201a8\"], [0.3333333333333333, \"#9c179e\"], [0.4444444444444444, \"#bd3786\"], [0.5555555555555556, \"#d8576b\"], [0.6666666666666666, \"#ed7953\"], [0.7777777777777778, \"#fb9f3a\"], [0.8888888888888888, \"#fdca26\"], [1.0, \"#f0f921\"]], \"type\": \"surface\"}], \"table\": [{\"cells\": {\"fill\": {\"color\": \"#EBF0F8\"}, \"line\": {\"color\": \"white\"}}, \"header\": {\"fill\": {\"color\": \"#C8D4E3\"}, \"line\": {\"color\": \"white\"}}, \"type\": \"table\"}]}, \"layout\": {\"annotationdefaults\": {\"arrowcolor\": \"#2a3f5f\", \"arrowhead\": 0, \"arrowwidth\": 1}, \"autotypenumbers\": \"strict\", \"coloraxis\": {\"colorbar\": {\"outlinewidth\": 0, \"ticks\": \"\"}}, \"colorscale\": {\"diverging\": [[0, \"#8e0152\"], [0.1, \"#c51b7d\"], [0.2, \"#de77ae\"], [0.3, \"#f1b6da\"], [0.4, \"#fde0ef\"], [0.5, \"#f7f7f7\"], [0.6, \"#e6f5d0\"], [0.7, \"#b8e186\"], [0.8, \"#7fbc41\"], [0.9, \"#4d9221\"], [1, \"#276419\"]], \"sequential\": [[0.0, \"#0d0887\"], [0.1111111111111111, \"#46039f\"], [0.2222222222222222, \"#7201a8\"], [0.3333333333333333, \"#9c179e\"], [0.4444444444444444, \"#bd3786\"], [0.5555555555555556, \"#d8576b\"], [0.6666666666666666, \"#ed7953\"], [0.7777777777777778, \"#fb9f3a\"], [0.8888888888888888, \"#fdca26\"], [1.0, \"#f0f921\"]], \"sequentialminus\": [[0.0, \"#0d0887\"], [0.1111111111111111, \"#46039f\"], [0.2222222222222222, \"#7201a8\"], [0.3333333333333333, \"#9c179e\"], [0.4444444444444444, \"#bd3786\"], [0.5555555555555556, \"#d8576b\"], [0.6666666666666666, \"#ed7953\"], [0.7777777777777778, \"#fb9f3a\"], [0.8888888888888888, \"#fdca26\"], [1.0, \"#f0f921\"]]}, \"colorway\": [\"#636efa\", \"#EF553B\", \"#00cc96\", \"#ab63fa\", \"#FFA15A\", \"#19d3f3\", \"#FF6692\", \"#B6E880\", \"#FF97FF\", \"#FECB52\"], \"font\": {\"color\": \"#2a3f5f\"}, \"geo\": {\"bgcolor\": \"white\", \"lakecolor\": \"white\", \"landcolor\": \"#E5ECF6\", \"showlakes\": true, \"showland\": true, \"subunitcolor\": \"white\"}, \"hoverlabel\": {\"align\": \"left\"}, \"hovermode\": \"closest\", \"mapbox\": {\"style\": \"light\"}, \"paper_bgcolor\": \"white\", \"plot_bgcolor\": \"#E5ECF6\", \"polar\": {\"angularaxis\": {\"gridcolor\": \"white\", \"linecolor\": \"white\", \"ticks\": \"\"}, \"bgcolor\": \"#E5ECF6\", \"radialaxis\": {\"gridcolor\": \"white\", \"linecolor\": \"white\", \"ticks\": \"\"}}, \"scene\": {\"xaxis\": {\"backgroundcolor\": \"#E5ECF6\", \"gridcolor\": \"white\", \"gridwidth\": 2, \"linecolor\": \"white\", \"showbackground\": true, \"ticks\": \"\", \"zerolinecolor\": \"white\"}, \"yaxis\": {\"backgroundcolor\": \"#E5ECF6\", \"gridcolor\": \"white\", \"gridwidth\": 2, \"linecolor\": \"white\", \"showbackground\": true, \"ticks\": \"\", \"zerolinecolor\": \"white\"}, \"zaxis\": {\"backgroundcolor\": \"#E5ECF6\", \"gridcolor\": \"white\", \"gridwidth\": 2, \"linecolor\": \"white\", \"showbackground\": true, \"ticks\": \"\", \"zerolinecolor\": \"white\"}}, \"shapedefaults\": {\"line\": {\"color\": \"#2a3f5f\"}}, \"ternary\": {\"aaxis\": {\"gridcolor\": \"white\", \"linecolor\": \"white\", \"ticks\": \"\"}, \"baxis\": {\"gridcolor\": \"white\", \"linecolor\": \"white\", \"ticks\": \"\"}, \"bgcolor\": \"#E5ECF6\", \"caxis\": {\"gridcolor\": \"white\", \"linecolor\": \"white\", \"ticks\": \"\"}}, \"title\": {\"x\": 0.05}, \"xaxis\": {\"automargin\": true, \"gridcolor\": \"white\", \"linecolor\": \"white\", \"ticks\": \"\", \"title\": {\"standoff\": 15}, \"zerolinecolor\": \"white\", \"zerolinewidth\": 2}, \"yaxis\": {\"automargin\": true, \"gridcolor\": \"white\", \"linecolor\": \"white\", \"ticks\": \"\", \"title\": {\"standoff\": 15}, \"zerolinecolor\": \"white\", \"zerolinewidth\": 2}}}, \"width\": 1000, \"xaxis\": {\"anchor\": \"y\", \"domain\": [0.0, 0.45]}, \"xaxis2\": {\"anchor\": \"y2\", \"domain\": [0.55, 1.0]}, \"xaxis3\": {\"anchor\": \"y3\", \"domain\": [0.0, 0.45]}, \"xaxis4\": {\"anchor\": \"y4\", \"domain\": [0.55, 1.0]}, \"xaxis5\": {\"anchor\": \"y5\", \"domain\": [0.0, 0.45]}, \"xaxis6\": {\"anchor\": \"y6\", \"domain\": [0.55, 1.0]}, \"yaxis\": {\"anchor\": \"x\", \"domain\": [0.7333333333333334, 1.0]}, \"yaxis2\": {\"anchor\": \"x2\", \"domain\": [0.7333333333333334, 1.0]}, \"yaxis3\": {\"anchor\": \"x3\", \"domain\": [0.3666666666666667, 0.6333333333333333]}, \"yaxis4\": {\"anchor\": \"x4\", \"domain\": [0.3666666666666667, 0.6333333333333333]}, \"yaxis5\": {\"anchor\": \"x5\", \"domain\": [0.0, 0.26666666666666666]}, \"yaxis6\": {\"anchor\": \"x6\", \"domain\": [0.0, 0.26666666666666666]}},                        {\"responsive\": true}                    ).then(function(){\n",
       "                            \n",
       "var gd = document.getElementById('320294bc-43df-4e35-9d4d-9e099132ac74');\n",
       "var x = new MutationObserver(function (mutations, observer) {{\n",
       "        var display = window.getComputedStyle(gd).display;\n",
       "        if (!display || display === 'none') {{\n",
       "            console.log([gd, 'removed!']);\n",
       "            Plotly.purge(gd);\n",
       "            observer.disconnect();\n",
       "        }}\n",
       "}});\n",
       "\n",
       "// Listen for the removal of the full notebook cells\n",
       "var notebookContainer = gd.closest('#notebook-container');\n",
       "if (notebookContainer) {{\n",
       "    x.observe(notebookContainer, {childList: true});\n",
       "}}\n",
       "\n",
       "// Listen for the clearing of the current output cell\n",
       "var outputEl = gd.closest('.output');\n",
       "if (outputEl) {{\n",
       "    x.observe(outputEl, {childList: true});\n",
       "}}\n",
       "\n",
       "                        })                };                });            </script>        </div>"
      ]
     },
     "metadata": {},
     "output_type": "display_data"
    }
   ],
   "source": [
    "fig = make_subplots(rows=3,\n",
    "                    cols=2,\n",
    "                    subplot_titles=[key + '(' + str(df['country'].value_counts()[key]) + ' titles)' for key in d_countries.keys()],\n",
    "                    vertical_spacing=0.1)\n",
    "counter_=0\n",
    "for r in range(1,4):\n",
    "    for c in range(1,3):\n",
    "        fig.add_trace(go.Bar(y=list(d_countries.items())[counter_][1].iloc[-10:]['word'],\n",
    "                             x=list(d_countries.items())[counter_][1].iloc[-10:]['count'],\n",
    "                             text=[round(num, 2) for num in list(d_countries.items())[counter_][1].iloc[-10:]['count']],\n",
    "                             orientation='h'),\n",
    "                        row = r,\n",
    "                        col = c, )\n",
    "        counter_ += 1\n",
    "    \n",
    "    \n",
    "fig.update_layout(height=1000, width=1000, showlegend=False)\n",
    "fig.update_traces(textposition='inside', textfont_size=24)\n",
    "fig.show()"
   ]
  },
  {
   "cell_type": "markdown",
   "metadata": {
    "papermill": {
     "duration": 0.02597,
     "end_time": "2021-01-03T10:53:18.948353",
     "exception": false,
     "start_time": "2021-01-03T10:53:18.922383",
     "status": "completed"
    },
    "tags": []
   },
   "source": [
    "### A few takeaways:\n",
    "1. There are proportionately more Indian and Japanese titles in this dataset with the word 'young' in their description.\n",
    "2. India and South Korea are the only countries with the word 'woman' in their top 10 most common words of descriptions.\n",
    "3. Japanese movies and shows are more 'mysterious' than those of other countries.\n",
    "4. A lot of the action in Indian films and TV shows seems to take place in Mumbai.\n",
    "5. The US and the UK have proportionately more documentaries in this dataset than the other top countries."
   ]
  }
 ],
 "metadata": {
  "kernelspec": {
   "display_name": "Python 3",
   "language": "python",
   "name": "python3"
  },
  "language_info": {
   "codemirror_mode": {
    "name": "ipython",
    "version": 3
   },
   "file_extension": ".py",
   "mimetype": "text/x-python",
   "name": "python",
   "nbconvert_exporter": "python",
   "pygments_lexer": "ipython3",
   "version": "3.7.6"
  },
  "papermill": {
   "duration": 35.554519,
   "end_time": "2021-01-03T10:53:19.080835",
   "environment_variables": {},
   "exception": null,
   "input_path": "__notebook__.ipynb",
   "output_path": "__notebook__.ipynb",
   "parameters": {},
   "start_time": "2021-01-03T10:52:43.526316",
   "version": "2.1.0"
  }
 },
 "nbformat": 4,
 "nbformat_minor": 4
}
